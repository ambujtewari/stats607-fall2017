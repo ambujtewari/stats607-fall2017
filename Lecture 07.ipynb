{
 "cells": [
  {
   "cell_type": "markdown",
   "metadata": {},
   "source": [
    "Today we'll cover:\n",
    "\n",
    "1. [Optimization and root finding](#Optimization-and-root-finding)\n",
    "2. [Special functions](#Special-functions)\n",
    "3. [Statistical functions](#Statistical-functions)"
   ]
  },
  {
   "cell_type": "markdown",
   "metadata": {},
   "source": [
    "# Optimization and root finding"
   ]
  },
  {
   "cell_type": "code",
   "execution_count": 1,
   "metadata": {},
   "outputs": [],
   "source": [
    "import numpy as np"
   ]
  },
  {
   "cell_type": "code",
   "execution_count": 2,
   "metadata": {},
   "outputs": [],
   "source": [
    "from numpy import linalg as LA"
   ]
  },
  {
   "cell_type": "code",
   "execution_count": 3,
   "metadata": {},
   "outputs": [],
   "source": [
    "from scipy.optimize import minimize, rosen"
   ]
  },
  {
   "cell_type": "code",
   "execution_count": 4,
   "metadata": {},
   "outputs": [],
   "source": [
    "x0 = np.array([1.3, 0.7, 0.8, 1.9, 1.2])"
   ]
  },
  {
   "cell_type": "markdown",
   "metadata": {},
   "source": [
    "Let us run a simple [derivative free optimization](http://dx.doi.org/10.1137/1.9780898718768) method, called the [Nelder-Mead method](http://en.wikipedia.org/wiki/Nelder%E2%80%93Mead_method), starting from the above point `x0`. The function we will minimize is a popular test case in the optimization literature: the [Rosenbrock function](http://en.wikipedia.org/wiki/Rosenbrock_function)."
   ]
  },
  {
   "cell_type": "code",
   "execution_count": 5,
   "metadata": {},
   "outputs": [
    {
     "name": "stdout",
     "output_type": "stream",
     "text": [
      "Optimization terminated successfully.\n",
      "         Current function value: 0.000000\n",
      "         Iterations: 339\n",
      "         Function evaluations: 571\n"
     ]
    }
   ],
   "source": [
    "res = minimize(rosen, x0, method='nelder-mead',\n",
    "               options={'xtol': 1e-8, 'disp': True})"
   ]
  },
  {
   "cell_type": "code",
   "execution_count": 6,
   "metadata": {},
   "outputs": [
    {
     "name": "stdout",
     "output_type": "stream",
     "text": [
      "[ 1.  1.  1.  1.  1.]\n"
     ]
    }
   ],
   "source": [
    "print res.x  # print the minimizer found"
   ]
  },
  {
   "cell_type": "code",
   "execution_count": 7,
   "metadata": {},
   "outputs": [
    {
     "name": "stdout",
     "output_type": "stream",
     "text": [
      " final_simplex: (array([[ 1.        ,  1.        ,  1.        ,  1.        ,  1.        ],\n",
      "       [ 1.        ,  1.        ,  1.        ,  1.        ,  1.        ],\n",
      "       [ 1.        ,  1.        ,  1.        ,  1.00000001,  1.00000001],\n",
      "       [ 1.        ,  1.        ,  1.        ,  1.        ,  1.        ],\n",
      "       [ 1.        ,  1.        ,  1.        ,  1.        ,  1.        ],\n",
      "       [ 1.        ,  1.        ,  1.        ,  1.        ,  0.99999999]]), array([  4.86115343e-17,   7.65182843e-17,   8.11395684e-17,\n",
      "         8.63263255e-17,   8.64080682e-17,   2.17927418e-16]))\n",
      "           fun: 4.8611534334221152e-17\n",
      "       message: 'Optimization terminated successfully.'\n",
      "          nfev: 571\n",
      "           nit: 339\n",
      "        status: 0\n",
      "       success: True\n",
      "             x: array([ 1.,  1.,  1.,  1.,  1.])\n"
     ]
    }
   ],
   "source": [
    "print res  # res is an object with many fields"
   ]
  },
  {
   "cell_type": "markdown",
   "metadata": {},
   "source": [
    "Let us try another deriviative free method called [Powell's Method](http://dx.doi.org/10.1093/comjnl/7.2.155). We will again use the Rosenbrock function for testing."
   ]
  },
  {
   "cell_type": "code",
   "execution_count": 8,
   "metadata": {},
   "outputs": [
    {
     "name": "stdout",
     "output_type": "stream",
     "text": [
      "Optimization terminated successfully.\n",
      "         Current function value: 0.000000\n",
      "         Iterations: 19\n",
      "         Function evaluations: 1622\n"
     ]
    }
   ],
   "source": [
    "res = minimize(rosen, x0, method='powell',\n",
    "               options={'xtol': 1e-8, 'disp': True})"
   ]
  },
  {
   "cell_type": "code",
   "execution_count": 9,
   "metadata": {},
   "outputs": [
    {
     "name": "stdout",
     "output_type": "stream",
     "text": [
      "[ 1.  1.  1.  1.  1.]\n"
     ]
    }
   ],
   "source": [
    "print res.x"
   ]
  },
  {
   "cell_type": "code",
   "execution_count": 10,
   "metadata": {},
   "outputs": [
    {
     "name": "stdout",
     "output_type": "stream",
     "text": [
      "   direc: array([[  1.59217495e-06,   1.43301633e-06,   4.65187663e-06,\n",
      "          9.58520273e-06,   2.09783685e-05],\n",
      "       [ -5.72229228e-04,  -8.96827101e-04,  -2.05165897e-03,\n",
      "         -4.12621496e-03,  -7.47022249e-03],\n",
      "       [  0.00000000e+00,   0.00000000e+00,   1.00000000e+00,\n",
      "          0.00000000e+00,   0.00000000e+00],\n",
      "       [ -6.33752967e-03,  -3.93431060e-03,  -1.22576639e-03,\n",
      "          4.95313151e-05,   1.18066443e-04],\n",
      "       [  3.39029104e-08,   7.58841519e-08,   1.38160426e-07,\n",
      "          2.56876108e-07,   5.19973682e-07]])\n",
      "     fun: 2.0864733021357032e-21\n",
      " message: 'Optimization terminated successfully.'\n",
      "    nfev: 1622\n",
      "     nit: 19\n",
      "  status: 0\n",
      " success: True\n",
      "       x: array([ 1.,  1.,  1.,  1.,  1.])\n"
     ]
    }
   ],
   "source": [
    "print res  # the structure of the returned objects depends on which method was used"
   ]
  },
  {
   "cell_type": "markdown",
   "metadata": {},
   "source": [
    "We have so far use deriviative free or zero-order optimization methods. These methods only require function evaluations but can be slow to converge. Let us now look at first-order optimization methods, i.e., methods that evaluate derivatives of the function being optimized."
   ]
  },
  {
   "cell_type": "code",
   "execution_count": 11,
   "metadata": {},
   "outputs": [],
   "source": [
    "from scipy.optimize import rosen_der  # import the derivative of the Rosenbrock function"
   ]
  },
  {
   "cell_type": "code",
   "execution_count": 12,
   "metadata": {},
   "outputs": [],
   "source": [
    "direction = np.random.randn(len(x0)); direction = direction/LA.norm(direction)  # choose a random unit vector"
   ]
  },
  {
   "cell_type": "code",
   "execution_count": 13,
   "metadata": {},
   "outputs": [
    {
     "name": "stdout",
     "output_type": "stream",
     "text": [
      "[-0.76398873  0.05992837 -0.0636989   0.03532047 -0.6382983 ]  has norm  1.0\n"
     ]
    }
   ],
   "source": [
    "print direction, \" has norm \", LA.norm(direction)"
   ]
  },
  {
   "cell_type": "code",
   "execution_count": 14,
   "metadata": {},
   "outputs": [],
   "source": [
    "eps = 1e-5  # a small number"
   ]
  },
  {
   "cell_type": "code",
   "execution_count": 15,
   "metadata": {},
   "outputs": [],
   "source": [
    "rosen_change = rosen(x0 + eps * direction) - rosen(x0)  # actual change in the function in a given direction"
   ]
  },
  {
   "cell_type": "code",
   "execution_count": 16,
   "metadata": {},
   "outputs": [],
   "source": [
    "approx_change = rosen_der(x0).dot(eps * direction)  # approx change using first order expansion"
   ]
  },
  {
   "cell_type": "code",
   "execution_count": 17,
   "metadata": {},
   "outputs": [
    {
     "name": "stdout",
     "output_type": "stream",
     "text": [
      "actual change =  -7.78072740104e-05 \n",
      "change using 1st order Taylor expansion = -7.78670729361e-05\n"
     ]
    }
   ],
   "source": [
    "print \"actual change = \", rosen_change, \"\\nchange using 1st order Taylor expansion =\", approx_change"
   ]
  },
  {
   "cell_type": "markdown",
   "metadata": {},
   "source": [
    "Let us now minimize the Rosenbrock function using the [BFGS method](http://en.wikipedia.org/wiki/Broyden%E2%80%93Fletcher%E2%80%93Goldfarb%E2%80%93Shanno_algorithm). Note how we supply the derivative using the `jac` (for Jacobian) keyword argument."
   ]
  },
  {
   "cell_type": "code",
   "execution_count": 18,
   "metadata": {},
   "outputs": [
    {
     "name": "stdout",
     "output_type": "stream",
     "text": [
      "Optimization terminated successfully.\n",
      "         Current function value: 0.000000\n",
      "         Iterations: 25\n",
      "         Function evaluations: 30\n",
      "         Gradient evaluations: 30\n"
     ]
    }
   ],
   "source": [
    "res = minimize(rosen, x0, method='BFGS', jac=rosen_der,\n",
    "               options={'disp': True})"
   ]
  },
  {
   "cell_type": "code",
   "execution_count": 19,
   "metadata": {},
   "outputs": [
    {
     "name": "stdout",
     "output_type": "stream",
     "text": [
      "[ 1.00000004  1.0000001   1.00000021  1.00000044  1.00000092]\n"
     ]
    }
   ],
   "source": [
    "print res.x"
   ]
  },
  {
   "cell_type": "code",
   "execution_count": 20,
   "metadata": {},
   "outputs": [
    {
     "name": "stdout",
     "output_type": "stream",
     "text": [
      "      fun: 4.0130879949972905e-13\n",
      " hess_inv: array([[ 0.00758796,  0.01243893,  0.02344025,  0.04614953,  0.09222281],\n",
      "       [ 0.01243893,  0.02481725,  0.04712952,  0.09298607,  0.18569385],\n",
      "       [ 0.02344025,  0.04712952,  0.09456412,  0.18674836,  0.37282072],\n",
      "       [ 0.04614953,  0.09298607,  0.18674836,  0.37383212,  0.74621435],\n",
      "       [ 0.09222281,  0.18569385,  0.37282072,  0.74621435,  1.49444705]])\n",
      "      jac: array([ -5.68982937e-06,  -2.73296557e-06,  -2.54520599e-06,\n",
      "        -7.73460770e-06,   5.78142698e-06])\n",
      "  message: 'Optimization terminated successfully.'\n",
      "     nfev: 30\n",
      "      nit: 25\n",
      "     njev: 30\n",
      "   status: 0\n",
      "  success: True\n",
      "        x: array([ 1.00000004,  1.0000001 ,  1.00000021,  1.00000044,  1.00000092])\n"
     ]
    }
   ],
   "source": [
    "print res  # note that hess_inv is an approximation to the Hessian computed internally by BFGS"
   ]
  },
  {
   "cell_type": "markdown",
   "metadata": {},
   "source": [
    "Another first order method provided by `minimize` is the (Polak–Ribière) [Conjugate Gradient (CG) method](http://en.wikipedia.org/wiki/Nonlinear_conjugate_gradient_method)."
   ]
  },
  {
   "cell_type": "code",
   "execution_count": 21,
   "metadata": {},
   "outputs": [
    {
     "name": "stdout",
     "output_type": "stream",
     "text": [
      "Optimization terminated successfully.\n",
      "         Current function value: 0.000000\n",
      "         Iterations: 47\n",
      "         Function evaluations: 97\n",
      "         Gradient evaluations: 97\n"
     ]
    }
   ],
   "source": [
    "res = minimize(rosen, x0, method='CG', jac=rosen_der,\n",
    "               options={'disp': True})"
   ]
  },
  {
   "cell_type": "code",
   "execution_count": 22,
   "metadata": {},
   "outputs": [
    {
     "name": "stdout",
     "output_type": "stream",
     "text": [
      "[ 0.99999977  0.99999954  0.99999909  0.99999819  0.99999636]\n"
     ]
    }
   ],
   "source": [
    "print res.x"
   ]
  },
  {
   "cell_type": "markdown",
   "metadata": {},
   "source": [
    "Now we will use a second-order optimization method, i.e. a method that uses Hessian evaluations. We will first import the Hessian of the Rosenbrock function from the `optimize` subpackage."
   ]
  },
  {
   "cell_type": "code",
   "execution_count": 23,
   "metadata": {},
   "outputs": [],
   "source": [
    "from scipy.optimize import rosen_hess"
   ]
  },
  {
   "cell_type": "markdown",
   "metadata": {},
   "source": [
    "Let us check if the Hessian works as expected in a second-order Taylor expansion."
   ]
  },
  {
   "cell_type": "code",
   "execution_count": 24,
   "metadata": {},
   "outputs": [],
   "source": [
    "approx_change2 = rosen_der(x0).dot(eps * direction) + 0.5*(eps * direction).dot(rosen_hess(x0)).dot(eps * direction)"
   ]
  },
  {
   "cell_type": "code",
   "execution_count": 25,
   "metadata": {},
   "outputs": [
    {
     "name": "stdout",
     "output_type": "stream",
     "text": [
      "actual change =  -7.78072740104e-05 \n",
      "change using 2nd order Taylor approx. = -7.78072738159e-05\n"
     ]
    }
   ],
   "source": [
    "print \"actual change = \", rosen_change, \"\\nchange using 2nd order Taylor approx. =\", approx_change2"
   ]
  },
  {
   "cell_type": "markdown",
   "metadata": {},
   "source": [
    "We will now use the line search Newton-CG method (also called [truncated Newton method](http://www.neos-guide.org/content/truncated-newton-methods))."
   ]
  },
  {
   "cell_type": "code",
   "execution_count": 26,
   "metadata": {},
   "outputs": [
    {
     "name": "stdout",
     "output_type": "stream",
     "text": [
      "Optimization terminated successfully.\n",
      "         Current function value: 0.000000\n",
      "         Iterations: 24\n",
      "         Function evaluations: 33\n",
      "         Gradient evaluations: 56\n",
      "         Hessian evaluations: 24\n"
     ]
    }
   ],
   "source": [
    "res = minimize(rosen, x0, method='Newton-CG',\n",
    "               jac=rosen_der, hess=rosen_hess,  # now we supply both Jacobian as well as Hessian\n",
    "               options={'xtol': 1e-8, 'disp': True})"
   ]
  },
  {
   "cell_type": "code",
   "execution_count": 27,
   "metadata": {},
   "outputs": [
    {
     "name": "stdout",
     "output_type": "stream",
     "text": [
      "[ 1.          1.          1.          0.99999999  0.99999999]\n"
     ]
    }
   ],
   "source": [
    "print res.x"
   ]
  },
  {
   "cell_type": "markdown",
   "metadata": {},
   "source": [
    "Let us end this section by using one of the root finding functions in `scipy.optimize`.\n",
    "\n",
    "We will compute the [Omega constant](http://en.wikipedia.org/wiki/Omega_constant), namely the unique real number $\\Omega$ that satisifes the equality $\\Omega e^\\Omega = 1$."
   ]
  },
  {
   "cell_type": "code",
   "execution_count": 28,
   "metadata": {},
   "outputs": [],
   "source": [
    "import math"
   ]
  },
  {
   "cell_type": "code",
   "execution_count": 29,
   "metadata": {},
   "outputs": [],
   "source": [
    "def self_times_exp(x):\n",
    "    return x*math.exp(x)"
   ]
  },
  {
   "cell_type": "code",
   "execution_count": 30,
   "metadata": {},
   "outputs": [],
   "source": [
    "from scipy.optimize import bisect"
   ]
  },
  {
   "cell_type": "code",
   "execution_count": 31,
   "metadata": {},
   "outputs": [],
   "source": [
    "Omega = bisect(lambda x: self_times_exp(x) - 1, 0, 1)  # find the root of x*exp(x) - 1 using bisection on the interval [0, 1]"
   ]
  },
  {
   "cell_type": "code",
   "execution_count": 32,
   "metadata": {},
   "outputs": [
    {
     "name": "stdout",
     "output_type": "stream",
     "text": [
      "0.567143290411\n"
     ]
    }
   ],
   "source": [
    "print Omega"
   ]
  },
  {
   "cell_type": "code",
   "execution_count": 33,
   "metadata": {},
   "outputs": [
    {
     "name": "stdout",
     "output_type": "stream",
     "text": [
      "1.0\n"
     ]
    }
   ],
   "source": [
    "print Omega * math.exp(Omega)"
   ]
  },
  {
   "cell_type": "markdown",
   "metadata": {},
   "source": [
    "Another useful function is `scipy.optimize.golden` that implements the [Golden Section Search method](http://en.wikipedia.org/wiki/Golden_section_search) due to the statistician [Jack Kiefer](http://en.wikipedia.org/wiki/Jack_Kiefer_%28statistician%29). It searches for the minimum of a univariate function on an interval where there is a unique minimum. Each iteration reduces the interval to search in by a factor of $1/\\phi$ where $\\phi = \\frac{1+\\sqrt{5}}{2}$ is the [golden ratio](http://en.wikipedia.org/wiki/Golden_ratio)."
   ]
  },
  {
   "cell_type": "code",
   "execution_count": 34,
   "metadata": {},
   "outputs": [],
   "source": [
    "from scipy.optimize import golden"
   ]
  },
  {
   "cell_type": "markdown",
   "metadata": {},
   "source": [
    "Let us now find the unique minimum of the function $f(x) = xe^x$ on the interval $[-2, 0]$. Since $f'(x) = (1+x)e^x$, we know that the minimum is achived at $x=-1$ but let us find that numerically."
   ]
  },
  {
   "cell_type": "code",
   "execution_count": 35,
   "metadata": {},
   "outputs": [
    {
     "name": "stdout",
     "output_type": "stream",
     "text": [
      "-1.00000000199\n"
     ]
    }
   ],
   "source": [
    "print golden(lambda x: x*math.exp(x), brack=(-2, 0))"
   ]
  },
  {
   "cell_type": "markdown",
   "metadata": {},
   "source": [
    "# Special functions"
   ]
  },
  {
   "cell_type": "markdown",
   "metadata": {},
   "source": [
    "`scipy.special` provides many special mathematical functions. Almost all of them are universal functions and so can be applied to ndarrays elementwise. There are far too many of them for us to cover them in any sufficient detail (it is best to consult the [reference page](http://docs.scipy.org/doc/scipy/reference/special.html#module-scipy.special) to get a good idea of what's available).\n",
    "\n",
    "Here we simply find the Omega constant again via the [Lambert W function](http://en.wikipedia.org/wiki/Lambert_W_function) $W(z)$. It (or, to be more precise, its principal branch) is defined for $z \\ge -1/e$ as the number $W(z) \\ge -1$ such that $z = W(z) e^{W(z)}$. So, the Omega constant is nothing but $W(1)$."
   ]
  },
  {
   "cell_type": "code",
   "execution_count": 36,
   "metadata": {},
   "outputs": [],
   "source": [
    "from scipy.special import lambertw"
   ]
  },
  {
   "cell_type": "code",
   "execution_count": 37,
   "metadata": {},
   "outputs": [
    {
     "name": "stdout",
     "output_type": "stream",
     "text": [
      "(0.56714329041+0j)\n"
     ]
    }
   ],
   "source": [
    "print lambertw(1)  # returns a complex number"
   ]
  },
  {
   "cell_type": "code",
   "execution_count": 38,
   "metadata": {},
   "outputs": [
    {
     "data": {
      "text/plain": [
       "True"
      ]
     },
     "execution_count": 38,
     "metadata": {},
     "output_type": "execute_result"
    }
   ],
   "source": [
    "np.allclose(Omega, lambertw(1))  # check if our value, computed using bisect, agrees with the above"
   ]
  },
  {
   "cell_type": "markdown",
   "metadata": {},
   "source": [
    "# Statistical functions"
   ]
  },
  {
   "cell_type": "code",
   "execution_count": 39,
   "metadata": {},
   "outputs": [],
   "source": [
    "from scipy import stats"
   ]
  },
  {
   "cell_type": "markdown",
   "metadata": {},
   "source": [
    "The `stats` subpackage provides many discrete rvs (random variables) and continuous rvs. Discrete rvs are instances of the class [`scipy.stats.rv_discrete`](http://docs.scipy.org/doc/scipy/reference/generated/scipy.stats.rv_discrete.html#scipy.stats.rv_discrete). Continuous rvs are instances of the class [`scipy.stats.rv_continuous`](http://docs.scipy.org/doc/scipy/reference/generated/scipy.stats.rv_discrete.html#scipy.stats.rv_discrete)."
   ]
  },
  {
   "cell_type": "code",
   "execution_count": 40,
   "metadata": {},
   "outputs": [],
   "source": [
    "cont_rvs = [d for d in dir(stats) if isinstance(getattr(stats, d), stats.rv_continuous)]"
   ]
  },
  {
   "cell_type": "code",
   "execution_count": 41,
   "metadata": {},
   "outputs": [],
   "source": [
    "disc_rvs = [d for d in dir(stats) if isinstance(getattr(stats, d), stats.rv_discrete)]"
   ]
  },
  {
   "cell_type": "code",
   "execution_count": 42,
   "metadata": {},
   "outputs": [
    {
     "name": "stdout",
     "output_type": "stream",
     "text": [
      "There are 95 continuous and 13 discrete distributions available.\n"
     ]
    }
   ],
   "source": [
    "print \"There are %d continuous and %d discrete distributions available.\" % (len(cont_rvs), len(disc_rvs))"
   ]
  },
  {
   "cell_type": "code",
   "execution_count": 43,
   "metadata": {},
   "outputs": [],
   "source": [
    "from scipy.stats import expon  # import the exponential distribution"
   ]
  },
  {
   "cell_type": "code",
   "execution_count": 44,
   "metadata": {},
   "outputs": [
    {
     "name": "stdout",
     "output_type": "stream",
     "text": [
      "[ 0.25610916  0.96293768  0.65040306  0.3597812   0.0643762   1.42589188\n",
      "  2.94336826  1.07098301  0.31507351  0.72132752  0.55298353  2.07898906\n",
      "  3.10178274  2.37728349  0.90276406  1.39549143  0.05760873  1.15393134\n",
      "  0.05563013  0.36938245  5.3302808   0.38578273  1.18026213  0.39860068\n",
      "  0.77102551  2.73160695  2.00751399  1.70800957  1.78885967  2.42914635\n",
      "  0.0378811   0.0853117   0.4894327   2.57046296  0.01697283  2.30267821\n",
      "  0.77965944  3.22949442  0.82847934  0.02796269  2.97582571  2.02855695\n",
      "  1.68708886  0.2300584   0.90477959  1.45114354  0.01255636  1.02203577\n",
      "  0.20990325  0.16643482]\n"
     ]
    }
   ],
   "source": [
    "samples = expon.rvs(size=50); print samples  # draw 50 samples from the distribution"
   ]
  },
  {
   "cell_type": "code",
   "execution_count": 45,
   "metadata": {},
   "outputs": [
    {
     "name": "stdout",
     "output_type": "stream",
     "text": [
      "1.21207810872 1.0\n"
     ]
    }
   ],
   "source": [
    "print np.mean(samples), expon.mean()  # check closeness of empirical mean with true mean"
   ]
  },
  {
   "cell_type": "markdown",
   "metadata": {},
   "source": [
    "Let's print the standard deviation, variance and entropy of an exponential rv."
   ]
  },
  {
   "cell_type": "code",
   "execution_count": 46,
   "metadata": {},
   "outputs": [
    {
     "name": "stdout",
     "output_type": "stream",
     "text": [
      "SD = 1.000000, Var = 1.000000, Entropy = 1.000000\n"
     ]
    }
   ],
   "source": [
    "print \"SD = %f, Var = %f, Entropy = %f\" % (expon.std(), expon.var(), expon.entropy())"
   ]
  },
  {
   "cell_type": "code",
   "execution_count": 47,
   "metadata": {},
   "outputs": [
    {
     "name": "stdout",
     "output_type": "stream",
     "text": [
      "1.0\n"
     ]
    }
   ],
   "source": [
    "print expon.pdf(0)  # p.d.f. at 0"
   ]
  },
  {
   "cell_type": "code",
   "execution_count": 48,
   "metadata": {},
   "outputs": [
    {
     "name": "stdout",
     "output_type": "stream",
     "text": [
      "0.0\n"
     ]
    }
   ],
   "source": [
    "print expon.cdf(0)  # c.d.f. at 0"
   ]
  },
  {
   "cell_type": "code",
   "execution_count": 49,
   "metadata": {},
   "outputs": [
    {
     "name": "stdout",
     "output_type": "stream",
     "text": [
      "1.38629436112\n"
     ]
    }
   ],
   "source": [
    "print expon.ppf(.75)  # inverse cdf, useful to get percentiles (75th in this case)"
   ]
  },
  {
   "cell_type": "code",
   "execution_count": 50,
   "metadata": {},
   "outputs": [
    {
     "name": "stdout",
     "output_type": "stream",
     "text": [
      "[ 0.1  0.2  0.3  0.4  0.5  0.6  0.7  0.8  0.9]\n"
     ]
    }
   ],
   "source": [
    "quantiles = np.arange(.1, 1, .1); print quantiles "
   ]
  },
  {
   "cell_type": "code",
   "execution_count": 51,
   "metadata": {},
   "outputs": [
    {
     "data": {
      "text/plain": [
       "True"
      ]
     },
     "execution_count": 51,
     "metadata": {},
     "output_type": "execute_result"
    }
   ],
   "source": [
    "np.allclose(expon.cdf(expon.ppf(quantiles)), quantiles)  # check if ppf is indeed inverse cdf"
   ]
  },
  {
   "cell_type": "code",
   "execution_count": 52,
   "metadata": {},
   "outputs": [
    {
     "data": {
      "text/plain": [
       "2.0"
      ]
     },
     "execution_count": 52,
     "metadata": {},
     "output_type": "execute_result"
    }
   ],
   "source": [
    "expon.expect(lambda x: x**2)  # expectation of the function x^2 under the expon p.d.f."
   ]
  },
  {
   "cell_type": "markdown",
   "metadata": {},
   "source": [
    "We know that $\\int x^k e^{-x} dx = k!$. Let's test if `expect` works as expected."
   ]
  },
  {
   "cell_type": "code",
   "execution_count": 53,
   "metadata": {},
   "outputs": [],
   "source": [
    "from scipy.special import factorial"
   ]
  },
  {
   "cell_type": "code",
   "execution_count": 54,
   "metadata": {},
   "outputs": [
    {
     "data": {
      "text/plain": [
       "True"
      ]
     },
     "execution_count": 54,
     "metadata": {},
     "output_type": "execute_result"
    }
   ],
   "source": [
    "np.allclose(factorial(np.arange(10)), np.array([expon.expect(lambda x: x**k) for k in range(10)]))"
   ]
  },
  {
   "cell_type": "markdown",
   "metadata": {},
   "source": [
    "Since expectations of $x^k$ are just the (uncentered) moments, we could have also equivalently done the following."
   ]
  },
  {
   "cell_type": "code",
   "execution_count": 55,
   "metadata": {},
   "outputs": [
    {
     "data": {
      "text/plain": [
       "True"
      ]
     },
     "execution_count": 55,
     "metadata": {},
     "output_type": "execute_result"
    }
   ],
   "source": [
    "np.allclose(factorial(np.arange(10)), np.array([expon.moment(k) for k in range(10)]))"
   ]
  },
  {
   "cell_type": "markdown",
   "metadata": {},
   "source": [
    "The `median()` method returns the median. Let us test it on 4 popular continuous distributions."
   ]
  },
  {
   "cell_type": "code",
   "execution_count": 56,
   "metadata": {},
   "outputs": [],
   "source": [
    "rv_names = ['expon', 'norm', 'cauchy', 'uniform']"
   ]
  },
  {
   "cell_type": "code",
   "execution_count": 57,
   "metadata": {},
   "outputs": [],
   "source": [
    "rv_objects = [getattr(stats, rv_name) for rv_name in rv_names]"
   ]
  },
  {
   "cell_type": "code",
   "execution_count": 58,
   "metadata": {},
   "outputs": [
    {
     "data": {
      "text/plain": [
       "[True, True, True, True]"
      ]
     },
     "execution_count": 58,
     "metadata": {},
     "output_type": "execute_result"
    }
   ],
   "source": [
    "[np.allclose(rv.median(), rv.ppf(0.5)) for rv in rv_objects]  # median should be inverse cdf at 0.5"
   ]
  },
  {
   "cell_type": "markdown",
   "metadata": {},
   "source": [
    "Now let us work with a discrete rv, say Poisson."
   ]
  },
  {
   "cell_type": "code",
   "execution_count": 59,
   "metadata": {},
   "outputs": [],
   "source": [
    "from scipy.stats import poisson"
   ]
  },
  {
   "cell_type": "code",
   "execution_count": 60,
   "metadata": {},
   "outputs": [],
   "source": [
    "samples = poisson.rvs(mu=1, size=50)  # note how we have to supply the mu parameter in this case (no default assumed)"
   ]
  },
  {
   "cell_type": "code",
   "execution_count": 61,
   "metadata": {},
   "outputs": [
    {
     "name": "stdout",
     "output_type": "stream",
     "text": [
      "[0 0 2 0 2 0 1 0 2 3 1 2 0 1 2 0 1 2 1 0 1 2 2 1 0 1 1 0 2 0 0 1 0 0 0 1 0\n",
      " 1 2 1 1 2 1 0 4 1 1 1 0 1]\n"
     ]
    }
   ],
   "source": [
    "print samples"
   ]
  },
  {
   "cell_type": "code",
   "execution_count": 62,
   "metadata": {},
   "outputs": [
    {
     "name": "stdout",
     "output_type": "stream",
     "text": [
      "0.96 1.0\n"
     ]
    }
   ],
   "source": [
    "print np.mean(samples), poisson(mu=1).mean()"
   ]
  },
  {
   "cell_type": "markdown",
   "metadata": {},
   "source": [
    "If you don't like supplying the `mu` argument all the time, you can also create a \"frozen rv\" (see discussion [here](http://docs.scipy.org/doc/scipy/reference/tutorial/stats.html#freezing-a-distribution))."
   ]
  },
  {
   "cell_type": "code",
   "execution_count": 63,
   "metadata": {},
   "outputs": [],
   "source": [
    "poisson1 = poisson(mu=1)  # create frozen rv"
   ]
  },
  {
   "cell_type": "code",
   "execution_count": 64,
   "metadata": {},
   "outputs": [],
   "source": [
    "p_mean, p_var, p_skew = poisson1.stats('mvs')  # get mean, variance and skewness"
   ]
  },
  {
   "cell_type": "code",
   "execution_count": 65,
   "metadata": {},
   "outputs": [
    {
     "name": "stdout",
     "output_type": "stream",
     "text": [
      "Mean = 1.000000, Var = 1.000000, Skewness = 1.000000\n"
     ]
    }
   ],
   "source": [
    "print \"Mean = %f, Var = %f, Skewness = %f\" % (p_mean, p_var, p_skew)"
   ]
  },
  {
   "cell_type": "markdown",
   "metadata": {},
   "source": [
    "Poisson($\\mu = 1$) has p.m.f. $p(i) = e^{-1} \\frac{1}{i!}, i \\in \\{0, 1, 2, \\ldots\\}$."
   ]
  },
  {
   "cell_type": "code",
   "execution_count": 66,
   "metadata": {},
   "outputs": [],
   "source": [
    "known_pmf = np.exp(-1)*(1/factorial(np.arange(10)))  # note that factorial (imported from scipy.special) is a ufunc"
   ]
  },
  {
   "cell_type": "code",
   "execution_count": 67,
   "metadata": {},
   "outputs": [
    {
     "data": {
      "text/plain": [
       "True"
      ]
     },
     "execution_count": 67,
     "metadata": {},
     "output_type": "execute_result"
    }
   ],
   "source": [
    "np.allclose(known_pmf, poisson1.pmf(np.arange(10)))"
   ]
  }
 ],
 "metadata": {
  "kernelspec": {
   "display_name": "Python 2",
   "language": "python",
   "name": "python2"
  },
  "language_info": {
   "codemirror_mode": {
    "name": "ipython",
    "version": 2
   },
   "file_extension": ".py",
   "mimetype": "text/x-python",
   "name": "python",
   "nbconvert_exporter": "python",
   "pygments_lexer": "ipython2",
   "version": "2.7.13"
  }
 },
 "nbformat": 4,
 "nbformat_minor": 1
}
