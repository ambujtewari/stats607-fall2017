{
 "cells": [
  {
   "cell_type": "markdown",
   "metadata": {},
   "source": [
    "Today we'll cover:\n",
    "\n",
    "1. [Reading and writing text](#Reading-and-writing-text)\n",
    "2. [Reading from databases](#Reading-from-databases)\n",
    "3. [Reading from web APIs](#Reading-from-web-APIs)"
   ]
  },
  {
   "cell_type": "markdown",
   "metadata": {},
   "source": [
    "# Reading and writing text"
   ]
  },
  {
   "cell_type": "markdown",
   "metadata": {},
   "source": [
    "The 2 main reading & writing functions in pandas we will discuss are:\n",
    "\n",
    "* `read_csv()` to read comma separated data (we saw this in the last lecture)\n",
    "* `to_csv()` to write comnna separated data\n",
    "\n",
    "But before we get into the details of these, let us create some data files first."
   ]
  },
  {
   "cell_type": "code",
   "execution_count": 1,
   "metadata": {},
   "outputs": [],
   "source": [
    "import pandas as pd"
   ]
  },
  {
   "cell_type": "code",
   "execution_count": 2,
   "metadata": {},
   "outputs": [
    {
     "data": {
      "text/html": [
       "<div>\n",
       "<style>\n",
       "    .dataframe thead tr:only-child th {\n",
       "        text-align: right;\n",
       "    }\n",
       "\n",
       "    .dataframe thead th {\n",
       "        text-align: left;\n",
       "    }\n",
       "\n",
       "    .dataframe tbody tr th {\n",
       "        vertical-align: top;\n",
       "    }\n",
       "</style>\n",
       "<table border=\"1\" class=\"dataframe\">\n",
       "  <thead>\n",
       "    <tr style=\"text-align: right;\">\n",
       "      <th></th>\n",
       "      <th>Nationality</th>\n",
       "      <th>Born</th>\n",
       "      <th>Died</th>\n",
       "    </tr>\n",
       "    <tr>\n",
       "      <th>Mathematician</th>\n",
       "      <th></th>\n",
       "      <th></th>\n",
       "      <th></th>\n",
       "    </tr>\n",
       "  </thead>\n",
       "  <tbody>\n",
       "    <tr>\n",
       "      <th>Gauss</th>\n",
       "      <td>German</td>\n",
       "      <td>1777</td>\n",
       "      <td>1855</td>\n",
       "    </tr>\n",
       "    <tr>\n",
       "      <th>Euler</th>\n",
       "      <td>Swiss</td>\n",
       "      <td>1707</td>\n",
       "      <td>1783</td>\n",
       "    </tr>\n",
       "    <tr>\n",
       "      <th>Lagrange</th>\n",
       "      <td>French</td>\n",
       "      <td>1736</td>\n",
       "      <td>1813</td>\n",
       "    </tr>\n",
       "    <tr>\n",
       "      <th>Laplace</th>\n",
       "      <td>French</td>\n",
       "      <td>1749</td>\n",
       "      <td>1827</td>\n",
       "    </tr>\n",
       "  </tbody>\n",
       "</table>\n",
       "</div>"
      ],
      "text/plain": [
       "              Nationality  Born  Died\n",
       "Mathematician                        \n",
       "Gauss              German  1777  1855\n",
       "Euler               Swiss  1707  1783\n",
       "Lagrange           French  1736  1813\n",
       "Laplace            French  1749  1827"
      ]
     },
     "execution_count": 2,
     "metadata": {},
     "output_type": "execute_result"
    }
   ],
   "source": [
    "df = pd.DataFrame([['German', 1777, 1855],\n",
    "                   ['Swiss', 1707, 1783],\n",
    "                   ['French', 1736, 1813],\n",
    "                   ['French', 1749, 1827]],\n",
    "                  index=['Gauss', 'Euler', 'Lagrange', 'Laplace'],\n",
    "                  columns=['Nationality', 'Born', 'Died'])\n",
    "df.index.name = 'Mathematician'\n",
    "df"
   ]
  },
  {
   "cell_type": "code",
   "execution_count": 3,
   "metadata": {},
   "outputs": [],
   "source": [
    "df.to_csv('math.csv')  # export to a csv file"
   ]
  },
  {
   "cell_type": "code",
   "execution_count": 4,
   "metadata": {},
   "outputs": [
    {
     "name": "stdout",
     "output_type": "stream",
     "text": [
      "Mathematician,Nationality,Born,Died\r\n",
      "Gauss,German,1777,1855\r\n",
      "Euler,Swiss,1707,1783\r\n",
      "Lagrange,French,1736,1813\r\n",
      "Laplace,French,1749,1827\r\n"
     ]
    }
   ],
   "source": [
    "!cat math.csv  # run shell command to examine file"
   ]
  },
  {
   "cell_type": "code",
   "execution_count": 5,
   "metadata": {},
   "outputs": [
    {
     "data": {
      "text/html": [
       "<div>\n",
       "<style>\n",
       "    .dataframe thead tr:only-child th {\n",
       "        text-align: right;\n",
       "    }\n",
       "\n",
       "    .dataframe thead th {\n",
       "        text-align: left;\n",
       "    }\n",
       "\n",
       "    .dataframe tbody tr th {\n",
       "        vertical-align: top;\n",
       "    }\n",
       "</style>\n",
       "<table border=\"1\" class=\"dataframe\">\n",
       "  <thead>\n",
       "    <tr style=\"text-align: right;\">\n",
       "      <th></th>\n",
       "      <th>Mathematician</th>\n",
       "      <th>Nationality</th>\n",
       "      <th>Born</th>\n",
       "      <th>Died</th>\n",
       "    </tr>\n",
       "  </thead>\n",
       "  <tbody>\n",
       "    <tr>\n",
       "      <th>0</th>\n",
       "      <td>Gauss</td>\n",
       "      <td>German</td>\n",
       "      <td>1777</td>\n",
       "      <td>1855</td>\n",
       "    </tr>\n",
       "    <tr>\n",
       "      <th>1</th>\n",
       "      <td>Euler</td>\n",
       "      <td>Swiss</td>\n",
       "      <td>1707</td>\n",
       "      <td>1783</td>\n",
       "    </tr>\n",
       "    <tr>\n",
       "      <th>2</th>\n",
       "      <td>Lagrange</td>\n",
       "      <td>French</td>\n",
       "      <td>1736</td>\n",
       "      <td>1813</td>\n",
       "    </tr>\n",
       "    <tr>\n",
       "      <th>3</th>\n",
       "      <td>Laplace</td>\n",
       "      <td>French</td>\n",
       "      <td>1749</td>\n",
       "      <td>1827</td>\n",
       "    </tr>\n",
       "  </tbody>\n",
       "</table>\n",
       "</div>"
      ],
      "text/plain": [
       "  Mathematician Nationality  Born  Died\n",
       "0         Gauss      German  1777  1855\n",
       "1         Euler       Swiss  1707  1783\n",
       "2      Lagrange      French  1736  1813\n",
       "3       Laplace      French  1749  1827"
      ]
     },
     "execution_count": 5,
     "metadata": {},
     "output_type": "execute_result"
    }
   ],
   "source": [
    "del df  # delete the DataFrame\n",
    "df = pd.read_csv('math.csv')  # read it back in\n",
    "df"
   ]
  },
  {
   "cell_type": "markdown",
   "metadata": {},
   "source": [
    "That didn't quite give our original DataFrame back. We need to tell `read_csv` to use the first column (column 0) as the index."
   ]
  },
  {
   "cell_type": "code",
   "execution_count": 6,
   "metadata": {},
   "outputs": [
    {
     "data": {
      "text/html": [
       "<div>\n",
       "<style>\n",
       "    .dataframe thead tr:only-child th {\n",
       "        text-align: right;\n",
       "    }\n",
       "\n",
       "    .dataframe thead th {\n",
       "        text-align: left;\n",
       "    }\n",
       "\n",
       "    .dataframe tbody tr th {\n",
       "        vertical-align: top;\n",
       "    }\n",
       "</style>\n",
       "<table border=\"1\" class=\"dataframe\">\n",
       "  <thead>\n",
       "    <tr style=\"text-align: right;\">\n",
       "      <th></th>\n",
       "      <th>Nationality</th>\n",
       "      <th>Born</th>\n",
       "      <th>Died</th>\n",
       "    </tr>\n",
       "    <tr>\n",
       "      <th>Mathematician</th>\n",
       "      <th></th>\n",
       "      <th></th>\n",
       "      <th></th>\n",
       "    </tr>\n",
       "  </thead>\n",
       "  <tbody>\n",
       "    <tr>\n",
       "      <th>Gauss</th>\n",
       "      <td>German</td>\n",
       "      <td>1777</td>\n",
       "      <td>1855</td>\n",
       "    </tr>\n",
       "    <tr>\n",
       "      <th>Euler</th>\n",
       "      <td>Swiss</td>\n",
       "      <td>1707</td>\n",
       "      <td>1783</td>\n",
       "    </tr>\n",
       "    <tr>\n",
       "      <th>Lagrange</th>\n",
       "      <td>French</td>\n",
       "      <td>1736</td>\n",
       "      <td>1813</td>\n",
       "    </tr>\n",
       "    <tr>\n",
       "      <th>Laplace</th>\n",
       "      <td>French</td>\n",
       "      <td>1749</td>\n",
       "      <td>1827</td>\n",
       "    </tr>\n",
       "  </tbody>\n",
       "</table>\n",
       "</div>"
      ],
      "text/plain": [
       "              Nationality  Born  Died\n",
       "Mathematician                        \n",
       "Gauss              German  1777  1855\n",
       "Euler               Swiss  1707  1783\n",
       "Lagrange           French  1736  1813\n",
       "Laplace            French  1749  1827"
      ]
     },
     "execution_count": 6,
     "metadata": {},
     "output_type": "execute_result"
    }
   ],
   "source": [
    "df = pd.read_csv('math.csv', index_col=0)  # use columns 0 as index\n",
    "df"
   ]
  },
  {
   "cell_type": "markdown",
   "metadata": {},
   "source": [
    "We can also save a DataFrame without the header and index."
   ]
  },
  {
   "cell_type": "code",
   "execution_count": 7,
   "metadata": {},
   "outputs": [],
   "source": [
    "df.to_csv('math.csv', index=False, header=False)"
   ]
  },
  {
   "cell_type": "code",
   "execution_count": 8,
   "metadata": {},
   "outputs": [
    {
     "name": "stdout",
     "output_type": "stream",
     "text": [
      "German,1777,1855\r\n",
      "Swiss,1707,1783\r\n",
      "French,1736,1813\r\n",
      "French,1749,1827\r\n"
     ]
    }
   ],
   "source": [
    "!cat math.csv"
   ]
  },
  {
   "cell_type": "code",
   "execution_count": 9,
   "metadata": {},
   "outputs": [
    {
     "data": {
      "text/html": [
       "<div>\n",
       "<style>\n",
       "    .dataframe thead tr:only-child th {\n",
       "        text-align: right;\n",
       "    }\n",
       "\n",
       "    .dataframe thead th {\n",
       "        text-align: left;\n",
       "    }\n",
       "\n",
       "    .dataframe tbody tr th {\n",
       "        vertical-align: top;\n",
       "    }\n",
       "</style>\n",
       "<table border=\"1\" class=\"dataframe\">\n",
       "  <thead>\n",
       "    <tr style=\"text-align: right;\">\n",
       "      <th></th>\n",
       "      <th>Nationality</th>\n",
       "      <th>Born</th>\n",
       "      <th>Died</th>\n",
       "    </tr>\n",
       "    <tr>\n",
       "      <th>Mathematicians</th>\n",
       "      <th></th>\n",
       "      <th></th>\n",
       "      <th></th>\n",
       "    </tr>\n",
       "  </thead>\n",
       "  <tbody>\n",
       "    <tr>\n",
       "      <th>Gauss</th>\n",
       "      <td>German</td>\n",
       "      <td>1777</td>\n",
       "      <td>1855</td>\n",
       "    </tr>\n",
       "    <tr>\n",
       "      <th>Euler</th>\n",
       "      <td>Swiss</td>\n",
       "      <td>1707</td>\n",
       "      <td>1783</td>\n",
       "    </tr>\n",
       "    <tr>\n",
       "      <th>Lagrange</th>\n",
       "      <td>French</td>\n",
       "      <td>1736</td>\n",
       "      <td>1813</td>\n",
       "    </tr>\n",
       "    <tr>\n",
       "      <th>Laplace</th>\n",
       "      <td>French</td>\n",
       "      <td>1749</td>\n",
       "      <td>1827</td>\n",
       "    </tr>\n",
       "  </tbody>\n",
       "</table>\n",
       "</div>"
      ],
      "text/plain": [
       "               Nationality  Born  Died\n",
       "Mathematicians                        \n",
       "Gauss               German  1777  1855\n",
       "Euler                Swiss  1707  1783\n",
       "Lagrange            French  1736  1813\n",
       "Laplace             French  1749  1827"
      ]
     },
     "execution_count": 9,
     "metadata": {},
     "output_type": "execute_result"
    }
   ],
   "source": [
    "df = pd.read_csv('math.csv', names=['Nationality', 'Born', 'Died'])  # read and supply columns names\n",
    "df.index = ['Gauss', 'Euler', 'Lagrange', 'Laplace']   # supply the index\n",
    "df.index.name = 'Mathematicians'\n",
    "df"
   ]
  },
  {
   "cell_type": "markdown",
   "metadata": {},
   "source": [
    "For large files, it might make sense to read them in chunks."
   ]
  },
  {
   "cell_type": "code",
   "execution_count": 10,
   "metadata": {},
   "outputs": [
    {
     "ename": "KeyError",
     "evalue": "0",
     "output_type": "error",
     "traceback": [
      "\u001b[0;31m---------------------------------------------------------------------------\u001b[0m",
      "\u001b[0;31mKeyError\u001b[0m                                  Traceback (most recent call last)",
      "\u001b[0;32m<ipython-input-10-8551e5698841>\u001b[0m in \u001b[0;36m<module>\u001b[0;34m()\u001b[0m\n\u001b[1;32m      3\u001b[0m \u001b[0mfrench_count\u001b[0m \u001b[0;34m=\u001b[0m \u001b[0;36m0\u001b[0m\u001b[0;34m\u001b[0m\u001b[0m\n\u001b[1;32m      4\u001b[0m \u001b[0;32mfor\u001b[0m \u001b[0mpiece\u001b[0m \u001b[0;32min\u001b[0m \u001b[0mchunks\u001b[0m\u001b[0;34m:\u001b[0m\u001b[0;34m\u001b[0m\u001b[0m\n\u001b[0;32m----> 5\u001b[0;31m     \u001b[0mfrench_count\u001b[0m \u001b[0;34m+=\u001b[0m \u001b[0mpiece\u001b[0m\u001b[0;34m[\u001b[0m\u001b[0;34m'Nationality'\u001b[0m\u001b[0;34m]\u001b[0m\u001b[0;34m[\u001b[0m\u001b[0;36m0\u001b[0m\u001b[0;34m]\u001b[0m \u001b[0;34m==\u001b[0m \u001b[0;34m'French'\u001b[0m\u001b[0;34m\u001b[0m\u001b[0m\n\u001b[0m\u001b[1;32m      6\u001b[0m \u001b[0;32mprint\u001b[0m \u001b[0;34m'Found %d French mathematicians.'\u001b[0m \u001b[0;34m%\u001b[0m \u001b[0mfrench_count\u001b[0m\u001b[0;34m\u001b[0m\u001b[0m\n",
      "\u001b[0;32m/Users/tewaria/anaconda2/lib/python2.7/site-packages/pandas/core/series.pyc\u001b[0m in \u001b[0;36m__getitem__\u001b[0;34m(self, key)\u001b[0m\n\u001b[1;32m    599\u001b[0m         \u001b[0mkey\u001b[0m \u001b[0;34m=\u001b[0m \u001b[0mcom\u001b[0m\u001b[0;34m.\u001b[0m\u001b[0m_apply_if_callable\u001b[0m\u001b[0;34m(\u001b[0m\u001b[0mkey\u001b[0m\u001b[0;34m,\u001b[0m \u001b[0mself\u001b[0m\u001b[0;34m)\u001b[0m\u001b[0;34m\u001b[0m\u001b[0m\n\u001b[1;32m    600\u001b[0m         \u001b[0;32mtry\u001b[0m\u001b[0;34m:\u001b[0m\u001b[0;34m\u001b[0m\u001b[0m\n\u001b[0;32m--> 601\u001b[0;31m             \u001b[0mresult\u001b[0m \u001b[0;34m=\u001b[0m \u001b[0mself\u001b[0m\u001b[0;34m.\u001b[0m\u001b[0mindex\u001b[0m\u001b[0;34m.\u001b[0m\u001b[0mget_value\u001b[0m\u001b[0;34m(\u001b[0m\u001b[0mself\u001b[0m\u001b[0;34m,\u001b[0m \u001b[0mkey\u001b[0m\u001b[0;34m)\u001b[0m\u001b[0;34m\u001b[0m\u001b[0m\n\u001b[0m\u001b[1;32m    602\u001b[0m \u001b[0;34m\u001b[0m\u001b[0m\n\u001b[1;32m    603\u001b[0m             \u001b[0;32mif\u001b[0m \u001b[0;32mnot\u001b[0m \u001b[0mis_scalar\u001b[0m\u001b[0;34m(\u001b[0m\u001b[0mresult\u001b[0m\u001b[0;34m)\u001b[0m\u001b[0;34m:\u001b[0m\u001b[0;34m\u001b[0m\u001b[0m\n",
      "\u001b[0;32m/Users/tewaria/anaconda2/lib/python2.7/site-packages/pandas/core/indexes/base.pyc\u001b[0m in \u001b[0;36mget_value\u001b[0;34m(self, series, key)\u001b[0m\n\u001b[1;32m   2426\u001b[0m         \u001b[0;32mtry\u001b[0m\u001b[0;34m:\u001b[0m\u001b[0;34m\u001b[0m\u001b[0m\n\u001b[1;32m   2427\u001b[0m             return self._engine.get_value(s, k,\n\u001b[0;32m-> 2428\u001b[0;31m                                           tz=getattr(series.dtype, 'tz', None))\n\u001b[0m\u001b[1;32m   2429\u001b[0m         \u001b[0;32mexcept\u001b[0m \u001b[0mKeyError\u001b[0m \u001b[0;32mas\u001b[0m \u001b[0me1\u001b[0m\u001b[0;34m:\u001b[0m\u001b[0;34m\u001b[0m\u001b[0m\n\u001b[1;32m   2430\u001b[0m             \u001b[0;32mif\u001b[0m \u001b[0mlen\u001b[0m\u001b[0;34m(\u001b[0m\u001b[0mself\u001b[0m\u001b[0;34m)\u001b[0m \u001b[0;34m>\u001b[0m \u001b[0;36m0\u001b[0m \u001b[0;32mand\u001b[0m \u001b[0mself\u001b[0m\u001b[0;34m.\u001b[0m\u001b[0minferred_type\u001b[0m \u001b[0;32min\u001b[0m \u001b[0;34m[\u001b[0m\u001b[0;34m'integer'\u001b[0m\u001b[0;34m,\u001b[0m \u001b[0;34m'boolean'\u001b[0m\u001b[0;34m]\u001b[0m\u001b[0;34m:\u001b[0m\u001b[0;34m\u001b[0m\u001b[0m\n",
      "\u001b[0;32mpandas/_libs/index.pyx\u001b[0m in \u001b[0;36mpandas._libs.index.IndexEngine.get_value (pandas/_libs/index.c:4363)\u001b[0;34m()\u001b[0m\n",
      "\u001b[0;32mpandas/_libs/index.pyx\u001b[0m in \u001b[0;36mpandas._libs.index.IndexEngine.get_value (pandas/_libs/index.c:4046)\u001b[0;34m()\u001b[0m\n",
      "\u001b[0;32mpandas/_libs/index.pyx\u001b[0m in \u001b[0;36mpandas._libs.index.IndexEngine.get_loc (pandas/_libs/index.c:5085)\u001b[0;34m()\u001b[0m\n",
      "\u001b[0;32mpandas/_libs/hashtable_class_helper.pxi\u001b[0m in \u001b[0;36mpandas._libs.hashtable.Int64HashTable.get_item (pandas/_libs/hashtable.c:13913)\u001b[0;34m()\u001b[0m\n",
      "\u001b[0;32mpandas/_libs/hashtable_class_helper.pxi\u001b[0m in \u001b[0;36mpandas._libs.hashtable.Int64HashTable.get_item (pandas/_libs/hashtable.c:13857)\u001b[0;34m()\u001b[0m\n",
      "\u001b[0;31mKeyError\u001b[0m: 0"
     ]
    }
   ],
   "source": [
    "df.to_csv('math.csv')  # save again for index and header\n",
    "chunks = pd.read_csv('math.csv', chunksize=1)  # chunksize is in no. of lines\n",
    "french_count = 0\n",
    "for piece in chunks:\n",
    "    french_count += piece['Nationality'][0] == 'French'\n",
    "print 'Found %d French mathematicians.' % french_count"
   ]
  },
  {
   "cell_type": "code",
   "execution_count": 11,
   "metadata": {},
   "outputs": [
    {
     "name": "stdout",
     "output_type": "stream",
     "text": [
      "Mathematicians:Nationality:Born:Died\n",
      "Gauss:German:1777:1855\n",
      "Euler:Swiss:1707:1783\n",
      "Lagrange:French:1736:1813\n",
      "Laplace:French:1749:1827\n"
     ]
    }
   ],
   "source": [
    "import sys\n",
    "df.to_csv(sys.stdout, sep=':')  # can use a separator other than comma"
   ]
  },
  {
   "cell_type": "markdown",
   "metadata": {},
   "source": [
    "# Reading from databases"
   ]
  },
  {
   "cell_type": "markdown",
   "metadata": {},
   "source": [
    "Often the data you want to work with resides in a [relational database management system](http://en.wikipedia.org/wiki/Relational_database_management_system) (RDBMS). Some common commerical RDBMS implementations are: Oracle Database, Microsoft SQL server, MySQL and IBM DB2. [SQLite](http://www.sqlite.org/) is a freely available lightweight, disk-based (doesn't require a database server) database engine. In python, the package `sqlite3` provides an interface to SQLite.\n",
    "\n",
    "SQL (Structured Query Language) is a language used to interact with a database. A quick introduction to SQL can be found here:\n",
    "\n",
    "http://www.w3schools.com/sql/\n",
    "\n",
    "The SQL command to create a table in a database is `CREATE` (SQL queries are not case-sensitive: `CREATE` is the same as `create`)."
   ]
  },
  {
   "cell_type": "code",
   "execution_count": 12,
   "metadata": {},
   "outputs": [],
   "source": [
    "import sqlite3\n",
    "\n",
    "query = \"\"\"\n",
    "CREATE TABLE math\n",
    "(Mathematician VARCHAR(10),\n",
    " Nationality VARCHAR(10),\n",
    " Born INTEGER,\n",
    " Died INTEGER\n",
    ");\"\"\""
   ]
  },
  {
   "cell_type": "markdown",
   "metadata": {},
   "source": [
    "Now that we have created our first query, let us connect to a database and execute the query. In SQLite, databases are stored on disk as files. However, we can create an in-memory database denoted by the special name `:memory:`.\n",
    "\n",
    "Any query that changes the database, need to be committed to ensure that the change is visible to other connections to the database that might be open at the same time."
   ]
  },
  {
   "cell_type": "code",
   "execution_count": 13,
   "metadata": {},
   "outputs": [],
   "source": [
    "con = sqlite3.connect(':memory:')  # connect to an in-memory database\n",
    "con.execute(query)  # execute the query\n",
    "con.commit()  # commit the change"
   ]
  },
  {
   "cell_type": "markdown",
   "metadata": {},
   "source": [
    "We now have an empty table in the `:memory:` database. Let us insert some values into it using the SQL command `INSERT`."
   ]
  },
  {
   "cell_type": "code",
   "execution_count": 14,
   "metadata": {},
   "outputs": [],
   "source": [
    "con.execute(\"INSERT INTO math VALUES('Gauss', 'German', 1777, 1855)\")  # insert values\n",
    "con.commit()  # and commit"
   ]
  },
  {
   "cell_type": "markdown",
   "metadata": {},
   "source": [
    "At this stage, the table has a single row in it. Let us retrieve contents of the table using the SQL command `SELECT`. The result of executing a `SELECT` command is a *cursor*. You can think of it as an iterator."
   ]
  },
  {
   "cell_type": "code",
   "execution_count": 15,
   "metadata": {},
   "outputs": [
    {
     "name": "stdout",
     "output_type": "stream",
     "text": [
      "(u'Gauss', u'German', 1777, 1855)\n"
     ]
    }
   ],
   "source": [
    "cursor = con.execute('SELECT * FROM math')\n",
    "for row in cursor:\n",
    "    print row"
   ]
  },
  {
   "cell_type": "markdown",
   "metadata": {},
   "source": [
    "Let us insert some more values in our table. The `executemany` method is useful for executing many commands for the same type. The placeholder `?` gets replaces by the values supplied in the list argument."
   ]
  },
  {
   "cell_type": "code",
   "execution_count": 16,
   "metadata": {},
   "outputs": [],
   "source": [
    "values = [('Euler', 'Swiss', 1707, 1783),\n",
    "          ('Lagrange', 'French', 1736, 1813),\n",
    "          ('Laplace', 'French', 1749, 1827)]\n",
    "con.executemany(\"INSERT INTO math VALUES(?, ?, ?, ?)\", values)\n",
    "con.commit()"
   ]
  },
  {
   "cell_type": "markdown",
   "metadata": {},
   "source": [
    "We have seen that a cursor can be used an iterators. If you want one row, you can use the `fetchone()` method. If you you want all rows, you can use the `fetchall()` method."
   ]
  },
  {
   "cell_type": "code",
   "execution_count": 17,
   "metadata": {},
   "outputs": [
    {
     "name": "stdout",
     "output_type": "stream",
     "text": [
      "Fetching one row...\n",
      "(u'Gauss', u'German', 1777, 1855)\n",
      "Fetching all remaining rows...\n",
      "[(u'Euler', u'Swiss', 1707, 1783), (u'Lagrange', u'French', 1736, 1813), (u'Laplace', u'French', 1749, 1827)]\n"
     ]
    }
   ],
   "source": [
    "cursor = con.execute('SELECT * FROM math')\n",
    "print \"Fetching one row...\"\n",
    "print cursor.fetchone()\n",
    "print \"Fetching all remaining rows...\"\n",
    "print cursor.fetchall()"
   ]
  },
  {
   "cell_type": "markdown",
   "metadata": {},
   "source": [
    "Pandas provides a convenient way to convert results of SQL queries in DataFrame objects."
   ]
  },
  {
   "cell_type": "code",
   "execution_count": 18,
   "metadata": {},
   "outputs": [
    {
     "data": {
      "text/html": [
       "<div>\n",
       "<style>\n",
       "    .dataframe thead tr:only-child th {\n",
       "        text-align: right;\n",
       "    }\n",
       "\n",
       "    .dataframe thead th {\n",
       "        text-align: left;\n",
       "    }\n",
       "\n",
       "    .dataframe tbody tr th {\n",
       "        vertical-align: top;\n",
       "    }\n",
       "</style>\n",
       "<table border=\"1\" class=\"dataframe\">\n",
       "  <thead>\n",
       "    <tr style=\"text-align: right;\">\n",
       "      <th></th>\n",
       "      <th>Mathematician</th>\n",
       "      <th>Nationality</th>\n",
       "      <th>Born</th>\n",
       "      <th>Died</th>\n",
       "    </tr>\n",
       "  </thead>\n",
       "  <tbody>\n",
       "    <tr>\n",
       "      <th>0</th>\n",
       "      <td>Gauss</td>\n",
       "      <td>German</td>\n",
       "      <td>1777</td>\n",
       "      <td>1855</td>\n",
       "    </tr>\n",
       "    <tr>\n",
       "      <th>1</th>\n",
       "      <td>Euler</td>\n",
       "      <td>Swiss</td>\n",
       "      <td>1707</td>\n",
       "      <td>1783</td>\n",
       "    </tr>\n",
       "    <tr>\n",
       "      <th>2</th>\n",
       "      <td>Lagrange</td>\n",
       "      <td>French</td>\n",
       "      <td>1736</td>\n",
       "      <td>1813</td>\n",
       "    </tr>\n",
       "    <tr>\n",
       "      <th>3</th>\n",
       "      <td>Laplace</td>\n",
       "      <td>French</td>\n",
       "      <td>1749</td>\n",
       "      <td>1827</td>\n",
       "    </tr>\n",
       "  </tbody>\n",
       "</table>\n",
       "</div>"
      ],
      "text/plain": [
       "  Mathematician Nationality  Born  Died\n",
       "0         Gauss      German  1777  1855\n",
       "1         Euler       Swiss  1707  1783\n",
       "2      Lagrange      French  1736  1813\n",
       "3       Laplace      French  1749  1827"
      ]
     },
     "execution_count": 18,
     "metadata": {},
     "output_type": "execute_result"
    }
   ],
   "source": [
    "import pandas.io.sql as sql\n",
    "sql.read_sql('SELECT * FROM math', con)"
   ]
  },
  {
   "cell_type": "markdown",
   "metadata": {},
   "source": [
    "Let us try retrieving only French mathematicians."
   ]
  },
  {
   "cell_type": "code",
   "execution_count": 19,
   "metadata": {},
   "outputs": [
    {
     "data": {
      "text/html": [
       "<div>\n",
       "<style>\n",
       "    .dataframe thead tr:only-child th {\n",
       "        text-align: right;\n",
       "    }\n",
       "\n",
       "    .dataframe thead th {\n",
       "        text-align: left;\n",
       "    }\n",
       "\n",
       "    .dataframe tbody tr th {\n",
       "        vertical-align: top;\n",
       "    }\n",
       "</style>\n",
       "<table border=\"1\" class=\"dataframe\">\n",
       "  <thead>\n",
       "    <tr style=\"text-align: right;\">\n",
       "      <th></th>\n",
       "      <th>Mathematician</th>\n",
       "      <th>Nationality</th>\n",
       "      <th>Born</th>\n",
       "      <th>Died</th>\n",
       "    </tr>\n",
       "  </thead>\n",
       "  <tbody>\n",
       "    <tr>\n",
       "      <th>0</th>\n",
       "      <td>Lagrange</td>\n",
       "      <td>French</td>\n",
       "      <td>1736</td>\n",
       "      <td>1813</td>\n",
       "    </tr>\n",
       "    <tr>\n",
       "      <th>1</th>\n",
       "      <td>Laplace</td>\n",
       "      <td>French</td>\n",
       "      <td>1749</td>\n",
       "      <td>1827</td>\n",
       "    </tr>\n",
       "  </tbody>\n",
       "</table>\n",
       "</div>"
      ],
      "text/plain": [
       "  Mathematician Nationality  Born  Died\n",
       "0      Lagrange      French  1736  1813\n",
       "1       Laplace      French  1749  1827"
      ]
     },
     "execution_count": 19,
     "metadata": {},
     "output_type": "execute_result"
    }
   ],
   "source": [
    "sql.read_sql('SELECT * FROM math WHERE Nationality=\"French\"', con)"
   ]
  },
  {
   "cell_type": "markdown",
   "metadata": {},
   "source": [
    "# Reading from web APIs"
   ]
  },
  {
   "cell_type": "markdown",
   "metadata": {},
   "source": [
    "We will use the [Twitter Search API](https://dev.twitter.com/rest/public/search) to search for tweets. The API returns results in the [JSON format](http://en.wikipedia.org/wiki/JSON). Recallthat Jupyter notebooks (such as this document!) are also encoded in the JSON format.\n",
    "\n",
    "But before we can build a search query and execute it on twitter, we need to authenticate. We will use Twitter's [Application-only authentication](https://dev.twitter.com/oauth/application-only). The way this works is:\n",
    "\n",
    "1. Our (Python) application will encodes its *consumer key* and *consumer secret* into a specially encoded set of credentials.\n",
    "2. Then the application will make a request to exchange these credentials for a *bearer token*.\n",
    "3. When accessing the API, our application will use the *bearer token* to authenticate.\n",
    "\n",
    "Let us work on Step 1."
   ]
  },
  {
   "cell_type": "code",
   "execution_count": 20,
   "metadata": {},
   "outputs": [],
   "source": [
    "from urllib2 import urlopen, Request  # to create HTTP requests and open URLs\n",
    "import base64  # for base64 encoding\n",
    "import json  # for handling the JSON format\n",
    "\n",
    "consumer_key = 'dNcn9ZjPJ6dSaXJMYnVgna7jg'  # our app's consumer key\n",
    "consumer_secret = open('consumer_secret', 'r').read().strip()  # read secret (should not be made public) from file\n",
    "\n",
    "bearer_token = '%s:%s' % (consumer_key, consumer_secret)\n",
    "encoded_bearer_token = base64.b64encode(bearer_token.encode('ascii'))  # bearer token needs to be base64 encoded\n",
    "request = Request('https://api.twitter.com/oauth2/token')\n",
    "request.add_header('Content-Type',\n",
    "                   'application/x-www-form-urlencoded;charset=UTF-8')\n",
    "request.add_header('Authorization',\n",
    "                   'Basic %s' % encoded_bearer_token.decode('utf-8'))\n",
    "request_data = 'grant_type=client_credentials'.encode('ascii')\n",
    "request.add_data(request_data)"
   ]
  },
  {
   "cell_type": "markdown",
   "metadata": {},
   "source": [
    "Now that we have a Request object ready, let us send our request to get a bearer token to Twitter (Step 2)."
   ]
  },
  {
   "cell_type": "code",
   "execution_count": 21,
   "metadata": {},
   "outputs": [],
   "source": [
    "response = urlopen(request)  # make the request\n",
    "raw_data = response.read().decode('utf-8')  # read the raw results in JSON format\n",
    "data = json.loads(raw_data)  # decode JSON into Python data structures\n",
    "bearer_token = data['access_token']  # extract the token"
   ]
  },
  {
   "cell_type": "markdown",
   "metadata": {},
   "source": [
    "We can now use the bearer token to search (Step 3). Let us search for tweets containing \"data science\"."
   ]
  },
  {
   "cell_type": "code",
   "execution_count": 22,
   "metadata": {},
   "outputs": [],
   "source": [
    "url = 'https://api.twitter.com/1.1/search/tweets.json?q=data%20science'  # search for \"data science\"\n",
    "request = Request(url)\n",
    "request.add_header('Authorization', 'Bearer %s' % bearer_token)  # use the bearer token from Step 2\n",
    "response = urlopen(request)  # make the request\n",
    "raw_data = response.read().decode('utf-8')  # results in raw JSON\n",
    "data = json.loads(raw_data)  # decode JSON into Python data structures"
   ]
  },
  {
   "cell_type": "markdown",
   "metadata": {},
   "source": [
    "At this point `data` is a dictionary with just two keys: `search_metadata` and `statuses`. The latter has the tweets inside a Python list."
   ]
  },
  {
   "cell_type": "code",
   "execution_count": 23,
   "metadata": {},
   "outputs": [
    {
     "name": "stdout",
     "output_type": "stream",
     "text": [
      "[u'search_metadata', u'statuses']\n"
     ]
    }
   ],
   "source": [
    "print data.keys()"
   ]
  },
  {
   "cell_type": "code",
   "execution_count": 24,
   "metadata": {},
   "outputs": [
    {
     "name": "stdout",
     "output_type": "stream",
     "text": [
      "{u'contributors': None,\n",
      " u'coordinates': None,\n",
      " u'created_at': u'Wed Oct 11 13:53:19 +0000 2017',\n",
      " u'entities': {u'hashtags': [],\n",
      "               u'symbols': [],\n",
      "               u'urls': [{u'display_url': u'jeffknupp.com/blog/2017/09/1\\u2026',\n",
      "                          u'expanded_url': u'https://jeffknupp.com/blog/2017/09/15/python-is-the-fastest-growing-programming-language-due-to-a-feature-youve-never-heard-of/',\n",
      "                          u'indices': [108, 131],\n",
      "                          u'url': u'https://t.co/RqMZT5cNtB'}],\n",
      "               u'user_mentions': []},\n",
      " u'favorite_count': 1,\n",
      " u'favorited': False,\n",
      " u'geo': None,\n",
      " u'id': 918112279916408832,\n",
      " u'id_str': u'918112279916408832',\n",
      " u'in_reply_to_screen_name': None,\n",
      " u'in_reply_to_status_id': None,\n",
      " u'in_reply_to_status_id_str': None,\n",
      " u'in_reply_to_user_id': None,\n",
      " u'in_reply_to_user_id_str': None,\n",
      " u'is_quote_status': False,\n",
      " u'lang': u'en',\n",
      " u'metadata': {u'iso_language_code': u'en', u'result_type': u'recent'},\n",
      " u'place': None,\n",
      " u'possibly_sensitive': False,\n",
      " u'retweet_count': 0,\n",
      " u'retweeted': False,\n",
      " u'source': u'<a href=\"https://mobile.twitter.com\" rel=\"nofollow\">Twitter Lite</a>',\n",
      " u'text': u'An interesting take on why Python is so important for data science: an obscure (but important!) protocol... https://t.co/RqMZT5cNtB',\n",
      " u'truncated': False,\n",
      " u'user': {u'contributors_enabled': False,\n",
      "           u'created_at': u'Tue May 26 20:47:36 +0000 2009',\n",
      "           u'default_profile': True,\n",
      "           u'default_profile_image': False,\n",
      "           u'description': u'Astrophysicist, Python coder, and general lover of nature in all its forms.',\n",
      "           u'entities': {u'description': {u'urls': []},\n",
      "                         u'url': {u'urls': [{u'display_url': u'stsci.edu/~etollerud',\n",
      "                                             u'expanded_url': u'http://www.stsci.edu/~etollerud',\n",
      "                                             u'indices': [0, 23],\n",
      "                                             u'url': u'https://t.co/6Mh5S2N5La'}]}},\n",
      "           u'favourites_count': 2829,\n",
      "           u'follow_request_sent': None,\n",
      "           u'followers_count': 1000,\n",
      "           u'following': None,\n",
      "           u'friends_count': 261,\n",
      "           u'geo_enabled': True,\n",
      "           u'has_extended_profile': False,\n",
      "           u'id': 42715919,\n",
      "           u'id_str': u'42715919',\n",
      "           u'is_translation_enabled': False,\n",
      "           u'is_translator': False,\n",
      "           u'lang': u'en',\n",
      "           u'listed_count': 36,\n",
      "           u'location': u'Baltimore, MD',\n",
      "           u'name': u'Erik Tollerud',\n",
      "           u'notifications': None,\n",
      "           u'profile_background_color': u'C0DEED',\n",
      "           u'profile_background_image_url': u'http://abs.twimg.com/images/themes/theme1/bg.png',\n",
      "           u'profile_background_image_url_https': u'https://abs.twimg.com/images/themes/theme1/bg.png',\n",
      "           u'profile_background_tile': False,\n",
      "           u'profile_banner_url': u'https://pbs.twimg.com/profile_banners/42715919/1392160437',\n",
      "           u'profile_image_url': u'http://pbs.twimg.com/profile_images/344513261574472964/65bdd69c9723cfa541324aa07ad22385_normal.jpeg',\n",
      "           u'profile_image_url_https': u'https://pbs.twimg.com/profile_images/344513261574472964/65bdd69c9723cfa541324aa07ad22385_normal.jpeg',\n",
      "           u'profile_link_color': u'1DA1F2',\n",
      "           u'profile_sidebar_border_color': u'C0DEED',\n",
      "           u'profile_sidebar_fill_color': u'DDEEF6',\n",
      "           u'profile_text_color': u'333333',\n",
      "           u'profile_use_background_image': True,\n",
      "           u'protected': False,\n",
      "           u'screen_name': u'eteq',\n",
      "           u'statuses_count': 2649,\n",
      "           u'time_zone': None,\n",
      "           u'translator_type': u'none',\n",
      "           u'url': u'https://t.co/6Mh5S2N5La',\n",
      "           u'utc_offset': None,\n",
      "           u'verified': False}}\n"
     ]
    }
   ],
   "source": [
    "import pprint  # import pretty print module\n",
    "pprint.pprint(data['statuses'][0])  # print the first tweet, it is a Python dict"
   ]
  },
  {
   "cell_type": "code",
   "execution_count": 25,
   "metadata": {},
   "outputs": [
    {
     "data": {
      "text/html": [
       "<div>\n",
       "<style>\n",
       "    .dataframe thead tr:only-child th {\n",
       "        text-align: right;\n",
       "    }\n",
       "\n",
       "    .dataframe thead th {\n",
       "        text-align: left;\n",
       "    }\n",
       "\n",
       "    .dataframe tbody tr th {\n",
       "        vertical-align: top;\n",
       "    }\n",
       "</style>\n",
       "<table border=\"1\" class=\"dataframe\">\n",
       "  <thead>\n",
       "    <tr style=\"text-align: right;\">\n",
       "      <th></th>\n",
       "      <th>created_at</th>\n",
       "      <th>text</th>\n",
       "    </tr>\n",
       "  </thead>\n",
       "  <tbody>\n",
       "    <tr>\n",
       "      <th>0</th>\n",
       "      <td>Wed Oct 11 13:53:19 +0000 2017</td>\n",
       "      <td>An interesting take on why Python is so import...</td>\n",
       "    </tr>\n",
       "    <tr>\n",
       "      <th>1</th>\n",
       "      <td>Wed Oct 11 13:53:17 +0000 2017</td>\n",
       "      <td>RT @HarvardBiz: Understanding the science of i...</td>\n",
       "    </tr>\n",
       "    <tr>\n",
       "      <th>2</th>\n",
       "      <td>Wed Oct 11 13:53:01 +0000 2017</td>\n",
       "      <td>“How five businesses are using AI and big data...</td>\n",
       "    </tr>\n",
       "    <tr>\n",
       "      <th>3</th>\n",
       "      <td>Wed Oct 11 13:52:58 +0000 2017</td>\n",
       "      <td>RT @AndrewinContact: How 5 Companies Use #AI &amp;...</td>\n",
       "    </tr>\n",
       "    <tr>\n",
       "      <th>4</th>\n",
       "      <td>Wed Oct 11 13:52:57 +0000 2017</td>\n",
       "      <td>RT @AndrewinContact: How 5 Companies Use #AI &amp;...</td>\n",
       "    </tr>\n",
       "    <tr>\n",
       "      <th>5</th>\n",
       "      <td>Wed Oct 11 13:52:51 +0000 2017</td>\n",
       "      <td>Thanks Naoki for such a methodic explanation! ...</td>\n",
       "    </tr>\n",
       "    <tr>\n",
       "      <th>6</th>\n",
       "      <td>Wed Oct 11 13:52:08 +0000 2017</td>\n",
       "      <td>Looking forward to this talk about how data sc...</td>\n",
       "    </tr>\n",
       "    <tr>\n",
       "      <th>7</th>\n",
       "      <td>Wed Oct 11 13:52:01 +0000 2017</td>\n",
       "      <td>25 Timeless Data Science Articles https://t.co...</td>\n",
       "    </tr>\n",
       "    <tr>\n",
       "      <th>8</th>\n",
       "      <td>Wed Oct 11 13:51:57 +0000 2017</td>\n",
       "      <td>@petzlux @ODIHQ See also: https://t.co/dColfsT...</td>\n",
       "    </tr>\n",
       "    <tr>\n",
       "      <th>9</th>\n",
       "      <td>Wed Oct 11 13:51:42 +0000 2017</td>\n",
       "      <td>RT @AndrewinContact: How 5 Companies Use #AI &amp;...</td>\n",
       "    </tr>\n",
       "    <tr>\n",
       "      <th>10</th>\n",
       "      <td>Wed Oct 11 13:51:41 +0000 2017</td>\n",
       "      <td>RT @DataScienceCtrl: Tutorial - foundations of...</td>\n",
       "    </tr>\n",
       "    <tr>\n",
       "      <th>11</th>\n",
       "      <td>Wed Oct 11 13:51:34 +0000 2017</td>\n",
       "      <td>RT @DataScienceCtrl: Tutorial - foundations of...</td>\n",
       "    </tr>\n",
       "    <tr>\n",
       "      <th>12</th>\n",
       "      <td>Wed Oct 11 13:51:21 +0000 2017</td>\n",
       "      <td>RT @iot_alliance: #DataScience News: Intereste...</td>\n",
       "    </tr>\n",
       "    <tr>\n",
       "      <th>13</th>\n",
       "      <td>Wed Oct 11 13:51:14 +0000 2017</td>\n",
       "      <td>RT @DataScienceCtrl: Tutorial - foundations of...</td>\n",
       "    </tr>\n",
       "    <tr>\n",
       "      <th>14</th>\n",
       "      <td>Wed Oct 11 13:51:12 +0000 2017</td>\n",
       "      <td>Data science conversation with statistics stud...</td>\n",
       "    </tr>\n",
       "  </tbody>\n",
       "</table>\n",
       "</div>"
      ],
      "text/plain": [
       "                        created_at  \\\n",
       "0   Wed Oct 11 13:53:19 +0000 2017   \n",
       "1   Wed Oct 11 13:53:17 +0000 2017   \n",
       "2   Wed Oct 11 13:53:01 +0000 2017   \n",
       "3   Wed Oct 11 13:52:58 +0000 2017   \n",
       "4   Wed Oct 11 13:52:57 +0000 2017   \n",
       "5   Wed Oct 11 13:52:51 +0000 2017   \n",
       "6   Wed Oct 11 13:52:08 +0000 2017   \n",
       "7   Wed Oct 11 13:52:01 +0000 2017   \n",
       "8   Wed Oct 11 13:51:57 +0000 2017   \n",
       "9   Wed Oct 11 13:51:42 +0000 2017   \n",
       "10  Wed Oct 11 13:51:41 +0000 2017   \n",
       "11  Wed Oct 11 13:51:34 +0000 2017   \n",
       "12  Wed Oct 11 13:51:21 +0000 2017   \n",
       "13  Wed Oct 11 13:51:14 +0000 2017   \n",
       "14  Wed Oct 11 13:51:12 +0000 2017   \n",
       "\n",
       "                                                 text  \n",
       "0   An interesting take on why Python is so import...  \n",
       "1   RT @HarvardBiz: Understanding the science of i...  \n",
       "2   “How five businesses are using AI and big data...  \n",
       "3   RT @AndrewinContact: How 5 Companies Use #AI &...  \n",
       "4   RT @AndrewinContact: How 5 Companies Use #AI &...  \n",
       "5   Thanks Naoki for such a methodic explanation! ...  \n",
       "6   Looking forward to this talk about how data sc...  \n",
       "7   25 Timeless Data Science Articles https://t.co...  \n",
       "8   @petzlux @ODIHQ See also: https://t.co/dColfsT...  \n",
       "9   RT @AndrewinContact: How 5 Companies Use #AI &...  \n",
       "10  RT @DataScienceCtrl: Tutorial - foundations of...  \n",
       "11  RT @DataScienceCtrl: Tutorial - foundations of...  \n",
       "12  RT @iot_alliance: #DataScience News: Intereste...  \n",
       "13  RT @DataScienceCtrl: Tutorial - foundations of...  \n",
       "14  Data science conversation with statistics stud...  "
      ]
     },
     "execution_count": 25,
     "metadata": {},
     "output_type": "execute_result"
    }
   ],
   "source": [
    "# Extract the text and created_at fields and convert in pandas DataFrame\n",
    "tweets_df = pd.DataFrame(data['statuses'], columns=['created_at', 'text'])\n",
    "tweets_df"
   ]
  },
  {
   "cell_type": "code",
   "execution_count": 26,
   "metadata": {},
   "outputs": [
    {
     "data": {
      "text/html": [
       "<div>\n",
       "<style>\n",
       "    .dataframe thead tr:only-child th {\n",
       "        text-align: right;\n",
       "    }\n",
       "\n",
       "    .dataframe thead th {\n",
       "        text-align: left;\n",
       "    }\n",
       "\n",
       "    .dataframe tbody tr th {\n",
       "        vertical-align: top;\n",
       "    }\n",
       "</style>\n",
       "<table border=\"1\" class=\"dataframe\">\n",
       "  <thead>\n",
       "    <tr style=\"text-align: right;\">\n",
       "      <th></th>\n",
       "      <th>created_at</th>\n",
       "      <th>text</th>\n",
       "    </tr>\n",
       "  </thead>\n",
       "  <tbody>\n",
       "    <tr>\n",
       "      <th>0</th>\n",
       "      <td>Wed Oct 11 13:54:14 +0000 2017</td>\n",
       "      <td>#DataScience never sleeps.  https://t.co/jVea3...</td>\n",
       "    </tr>\n",
       "    <tr>\n",
       "      <th>1</th>\n",
       "      <td>Wed Oct 11 13:54:13 +0000 2017</td>\n",
       "      <td>RT @gundeeep: Is #Government ready for #BigDat...</td>\n",
       "    </tr>\n",
       "    <tr>\n",
       "      <th>2</th>\n",
       "      <td>Wed Oct 11 13:54:09 +0000 2017</td>\n",
       "      <td>RT @RedSqirl: The value of #analytics &amp;amp; #b...</td>\n",
       "    </tr>\n",
       "    <tr>\n",
       "      <th>3</th>\n",
       "      <td>Wed Oct 11 13:53:50 +0000 2017</td>\n",
       "      <td>All road leads to Oriental hotels tomorrow..\\n...</td>\n",
       "    </tr>\n",
       "    <tr>\n",
       "      <th>4</th>\n",
       "      <td>Wed Oct 11 13:53:33 +0000 2017</td>\n",
       "      <td>Meet our female leaders at hAQUAthon 2017 data...</td>\n",
       "    </tr>\n",
       "    <tr>\n",
       "      <th>5</th>\n",
       "      <td>Wed Oct 11 13:53:16 +0000 2017</td>\n",
       "      <td>RT @techfoliance: #AI #Datascience #MachineLea...</td>\n",
       "    </tr>\n",
       "    <tr>\n",
       "      <th>6</th>\n",
       "      <td>Wed Oct 11 13:53:13 +0000 2017</td>\n",
       "      <td>RT @gundeeep: Is #Government ready for #BigDat...</td>\n",
       "    </tr>\n",
       "    <tr>\n",
       "      <th>7</th>\n",
       "      <td>Wed Oct 11 13:53:09 +0000 2017</td>\n",
       "      <td>RT @ExtraSmartEMEA: #Pentaho #DataVisualizatio...</td>\n",
       "    </tr>\n",
       "    <tr>\n",
       "      <th>8</th>\n",
       "      <td>Wed Oct 11 13:51:41 +0000 2017</td>\n",
       "      <td>RT @DataScienceCtrl: Tutorial - foundations of...</td>\n",
       "    </tr>\n",
       "    <tr>\n",
       "      <th>9</th>\n",
       "      <td>Wed Oct 11 13:51:34 +0000 2017</td>\n",
       "      <td>RT @DataScienceCtrl: Tutorial - foundations of...</td>\n",
       "    </tr>\n",
       "    <tr>\n",
       "      <th>10</th>\n",
       "      <td>Wed Oct 11 13:51:27 +0000 2017</td>\n",
       "      <td>RT @JenniferRadema: #SUCanSummit #BigData #Dat...</td>\n",
       "    </tr>\n",
       "    <tr>\n",
       "      <th>11</th>\n",
       "      <td>Wed Oct 11 13:51:21 +0000 2017</td>\n",
       "      <td>RT @iot_alliance: #DataScience News: Intereste...</td>\n",
       "    </tr>\n",
       "  </tbody>\n",
       "</table>\n",
       "</div>"
      ],
      "text/plain": [
       "                        created_at  \\\n",
       "0   Wed Oct 11 13:54:14 +0000 2017   \n",
       "1   Wed Oct 11 13:54:13 +0000 2017   \n",
       "2   Wed Oct 11 13:54:09 +0000 2017   \n",
       "3   Wed Oct 11 13:53:50 +0000 2017   \n",
       "4   Wed Oct 11 13:53:33 +0000 2017   \n",
       "5   Wed Oct 11 13:53:16 +0000 2017   \n",
       "6   Wed Oct 11 13:53:13 +0000 2017   \n",
       "7   Wed Oct 11 13:53:09 +0000 2017   \n",
       "8   Wed Oct 11 13:51:41 +0000 2017   \n",
       "9   Wed Oct 11 13:51:34 +0000 2017   \n",
       "10  Wed Oct 11 13:51:27 +0000 2017   \n",
       "11  Wed Oct 11 13:51:21 +0000 2017   \n",
       "\n",
       "                                                 text  \n",
       "0   #DataScience never sleeps.  https://t.co/jVea3...  \n",
       "1   RT @gundeeep: Is #Government ready for #BigDat...  \n",
       "2   RT @RedSqirl: The value of #analytics &amp; #b...  \n",
       "3   All road leads to Oriental hotels tomorrow..\\n...  \n",
       "4   Meet our female leaders at hAQUAthon 2017 data...  \n",
       "5   RT @techfoliance: #AI #Datascience #MachineLea...  \n",
       "6   RT @gundeeep: Is #Government ready for #BigDat...  \n",
       "7   RT @ExtraSmartEMEA: #Pentaho #DataVisualizatio...  \n",
       "8   RT @DataScienceCtrl: Tutorial - foundations of...  \n",
       "9   RT @DataScienceCtrl: Tutorial - foundations of...  \n",
       "10  RT @JenniferRadema: #SUCanSummit #BigData #Dat...  \n",
       "11  RT @iot_alliance: #DataScience News: Intereste...  "
      ]
     },
     "execution_count": 26,
     "metadata": {},
     "output_type": "execute_result"
    }
   ],
   "source": [
    "url = 'https://api.twitter.com/1.1/search/tweets.json?q=%23datascience'  # search for the hashtag #datascience\n",
    "request = Request(url)\n",
    "request.add_header('Authorization', 'Bearer %s' % bearer_token)  # use the bearer token from Step 2\n",
    "response = urlopen(request)  # make the request\n",
    "raw_data = response.read().decode('utf-8')  # results in raw JSON\n",
    "data = json.loads(raw_data)  # decode JSON into Python data structures\n",
    "hashtag_tweets_df = pd.DataFrame(data['statuses'], columns=['created_at', 'text'])\n",
    "hashtag_tweets_df"
   ]
  },
  {
   "cell_type": "code",
   "execution_count": 27,
   "metadata": {},
   "outputs": [],
   "source": [
    "# clean up temporary files in the end\n",
    "!rm math.csv"
   ]
  }
 ],
 "metadata": {
  "kernelspec": {
   "display_name": "Python 2",
   "language": "python",
   "name": "python2"
  },
  "language_info": {
   "codemirror_mode": {
    "name": "ipython",
    "version": 2
   },
   "file_extension": ".py",
   "mimetype": "text/x-python",
   "name": "python",
   "nbconvert_exporter": "python",
   "pygments_lexer": "ipython2",
   "version": "2.7.13"
  }
 },
 "nbformat": 4,
 "nbformat_minor": 1
}
