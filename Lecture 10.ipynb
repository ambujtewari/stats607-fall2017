{
 "cells": [
  {
   "cell_type": "markdown",
   "metadata": {},
   "source": [
    "Today we'll cover:\n",
    "\n",
    "1. [Reading and writing text](#Reading-and-writing-text)\n",
    "2. [Reading from databases](#Reading-from-databases)\n",
    "3. [Reading from web APIs](#Reading-from-web-APIs)"
   ]
  },
  {
   "cell_type": "markdown",
   "metadata": {},
   "source": [
    "# Reading and writing text"
   ]
  },
  {
   "cell_type": "markdown",
   "metadata": {},
   "source": [
    "The 2 main reading & writing functions in pandas we will discuss are:\n",
    "\n",
    "* `read_csv()` to read comma separated data (we saw this in the last lecture)\n",
    "* `to_csv()` to write comnna separated data\n",
    "\n",
    "But before we get into the details of these, let us create some data files first."
   ]
  },
  {
   "cell_type": "code",
   "execution_count": 1,
   "metadata": {
    "collapsed": true
   },
   "outputs": [],
   "source": [
    "import pandas as pd"
   ]
  },
  {
   "cell_type": "code",
   "execution_count": 2,
   "metadata": {},
   "outputs": [
    {
     "data": {
      "text/html": [
       "<div>\n",
       "<style>\n",
       "    .dataframe thead tr:only-child th {\n",
       "        text-align: right;\n",
       "    }\n",
       "\n",
       "    .dataframe thead th {\n",
       "        text-align: left;\n",
       "    }\n",
       "\n",
       "    .dataframe tbody tr th {\n",
       "        vertical-align: top;\n",
       "    }\n",
       "</style>\n",
       "<table border=\"1\" class=\"dataframe\">\n",
       "  <thead>\n",
       "    <tr style=\"text-align: right;\">\n",
       "      <th></th>\n",
       "      <th>Nationality</th>\n",
       "      <th>Born</th>\n",
       "      <th>Died</th>\n",
       "    </tr>\n",
       "    <tr>\n",
       "      <th>Mathematician</th>\n",
       "      <th></th>\n",
       "      <th></th>\n",
       "      <th></th>\n",
       "    </tr>\n",
       "  </thead>\n",
       "  <tbody>\n",
       "    <tr>\n",
       "      <th>Gauss</th>\n",
       "      <td>German</td>\n",
       "      <td>1777</td>\n",
       "      <td>1855</td>\n",
       "    </tr>\n",
       "    <tr>\n",
       "      <th>Euler</th>\n",
       "      <td>Swiss</td>\n",
       "      <td>1707</td>\n",
       "      <td>1783</td>\n",
       "    </tr>\n",
       "    <tr>\n",
       "      <th>Lagrange</th>\n",
       "      <td>French</td>\n",
       "      <td>1736</td>\n",
       "      <td>1813</td>\n",
       "    </tr>\n",
       "    <tr>\n",
       "      <th>Laplace</th>\n",
       "      <td>French</td>\n",
       "      <td>1749</td>\n",
       "      <td>1827</td>\n",
       "    </tr>\n",
       "  </tbody>\n",
       "</table>\n",
       "</div>"
      ],
      "text/plain": [
       "              Nationality  Born  Died\n",
       "Mathematician                        \n",
       "Gauss              German  1777  1855\n",
       "Euler               Swiss  1707  1783\n",
       "Lagrange           French  1736  1813\n",
       "Laplace            French  1749  1827"
      ]
     },
     "execution_count": 2,
     "metadata": {},
     "output_type": "execute_result"
    }
   ],
   "source": [
    "df = pd.DataFrame([['German', 1777, 1855],\n",
    "                   ['Swiss', 1707, 1783],\n",
    "                   ['French', 1736, 1813],\n",
    "                   ['French', 1749, 1827]],\n",
    "                  index=['Gauss', 'Euler', 'Lagrange', 'Laplace'],\n",
    "                  columns=['Nationality', 'Born', 'Died'])\n",
    "df.index.name = 'Mathematician'\n",
    "df"
   ]
  },
  {
   "cell_type": "code",
   "execution_count": 3,
   "metadata": {
    "collapsed": true
   },
   "outputs": [],
   "source": [
    "df.to_csv('math.csv')  # export to a csv file"
   ]
  },
  {
   "cell_type": "code",
   "execution_count": 4,
   "metadata": {},
   "outputs": [
    {
     "name": "stdout",
     "output_type": "stream",
     "text": [
      "Mathematician,Nationality,Born,Died\r\n",
      "Gauss,German,1777,1855\r\n",
      "Euler,Swiss,1707,1783\r\n",
      "Lagrange,French,1736,1813\r\n",
      "Laplace,French,1749,1827\r\n"
     ]
    }
   ],
   "source": [
    "!cat math.csv  # run shell command to examine file"
   ]
  },
  {
   "cell_type": "code",
   "execution_count": 5,
   "metadata": {},
   "outputs": [
    {
     "data": {
      "text/html": [
       "<div>\n",
       "<style>\n",
       "    .dataframe thead tr:only-child th {\n",
       "        text-align: right;\n",
       "    }\n",
       "\n",
       "    .dataframe thead th {\n",
       "        text-align: left;\n",
       "    }\n",
       "\n",
       "    .dataframe tbody tr th {\n",
       "        vertical-align: top;\n",
       "    }\n",
       "</style>\n",
       "<table border=\"1\" class=\"dataframe\">\n",
       "  <thead>\n",
       "    <tr style=\"text-align: right;\">\n",
       "      <th></th>\n",
       "      <th>Mathematician</th>\n",
       "      <th>Nationality</th>\n",
       "      <th>Born</th>\n",
       "      <th>Died</th>\n",
       "    </tr>\n",
       "  </thead>\n",
       "  <tbody>\n",
       "    <tr>\n",
       "      <th>0</th>\n",
       "      <td>Gauss</td>\n",
       "      <td>German</td>\n",
       "      <td>1777</td>\n",
       "      <td>1855</td>\n",
       "    </tr>\n",
       "    <tr>\n",
       "      <th>1</th>\n",
       "      <td>Euler</td>\n",
       "      <td>Swiss</td>\n",
       "      <td>1707</td>\n",
       "      <td>1783</td>\n",
       "    </tr>\n",
       "    <tr>\n",
       "      <th>2</th>\n",
       "      <td>Lagrange</td>\n",
       "      <td>French</td>\n",
       "      <td>1736</td>\n",
       "      <td>1813</td>\n",
       "    </tr>\n",
       "    <tr>\n",
       "      <th>3</th>\n",
       "      <td>Laplace</td>\n",
       "      <td>French</td>\n",
       "      <td>1749</td>\n",
       "      <td>1827</td>\n",
       "    </tr>\n",
       "  </tbody>\n",
       "</table>\n",
       "</div>"
      ],
      "text/plain": [
       "  Mathematician Nationality  Born  Died\n",
       "0         Gauss      German  1777  1855\n",
       "1         Euler       Swiss  1707  1783\n",
       "2      Lagrange      French  1736  1813\n",
       "3       Laplace      French  1749  1827"
      ]
     },
     "execution_count": 5,
     "metadata": {},
     "output_type": "execute_result"
    }
   ],
   "source": [
    "del df  # delete the DataFrame\n",
    "df = pd.read_csv('math.csv')  # read it back in\n",
    "df"
   ]
  },
  {
   "cell_type": "markdown",
   "metadata": {},
   "source": [
    "That didn't quite give our original DataFrame back. We need to tell `read_csv` to use the first column (column 0) as the index."
   ]
  },
  {
   "cell_type": "code",
   "execution_count": 6,
   "metadata": {},
   "outputs": [
    {
     "data": {
      "text/html": [
       "<div>\n",
       "<style>\n",
       "    .dataframe thead tr:only-child th {\n",
       "        text-align: right;\n",
       "    }\n",
       "\n",
       "    .dataframe thead th {\n",
       "        text-align: left;\n",
       "    }\n",
       "\n",
       "    .dataframe tbody tr th {\n",
       "        vertical-align: top;\n",
       "    }\n",
       "</style>\n",
       "<table border=\"1\" class=\"dataframe\">\n",
       "  <thead>\n",
       "    <tr style=\"text-align: right;\">\n",
       "      <th></th>\n",
       "      <th>Nationality</th>\n",
       "      <th>Born</th>\n",
       "      <th>Died</th>\n",
       "    </tr>\n",
       "    <tr>\n",
       "      <th>Mathematician</th>\n",
       "      <th></th>\n",
       "      <th></th>\n",
       "      <th></th>\n",
       "    </tr>\n",
       "  </thead>\n",
       "  <tbody>\n",
       "    <tr>\n",
       "      <th>Gauss</th>\n",
       "      <td>German</td>\n",
       "      <td>1777</td>\n",
       "      <td>1855</td>\n",
       "    </tr>\n",
       "    <tr>\n",
       "      <th>Euler</th>\n",
       "      <td>Swiss</td>\n",
       "      <td>1707</td>\n",
       "      <td>1783</td>\n",
       "    </tr>\n",
       "    <tr>\n",
       "      <th>Lagrange</th>\n",
       "      <td>French</td>\n",
       "      <td>1736</td>\n",
       "      <td>1813</td>\n",
       "    </tr>\n",
       "    <tr>\n",
       "      <th>Laplace</th>\n",
       "      <td>French</td>\n",
       "      <td>1749</td>\n",
       "      <td>1827</td>\n",
       "    </tr>\n",
       "  </tbody>\n",
       "</table>\n",
       "</div>"
      ],
      "text/plain": [
       "              Nationality  Born  Died\n",
       "Mathematician                        \n",
       "Gauss              German  1777  1855\n",
       "Euler               Swiss  1707  1783\n",
       "Lagrange           French  1736  1813\n",
       "Laplace            French  1749  1827"
      ]
     },
     "execution_count": 6,
     "metadata": {},
     "output_type": "execute_result"
    }
   ],
   "source": [
    "df = pd.read_csv('math.csv', index_col=0)  # use columns 0 as index\n",
    "df"
   ]
  },
  {
   "cell_type": "markdown",
   "metadata": {},
   "source": [
    "We can also save a DataFrame without the header and index."
   ]
  },
  {
   "cell_type": "code",
   "execution_count": 7,
   "metadata": {
    "collapsed": true
   },
   "outputs": [],
   "source": [
    "df.to_csv('math.csv', index=False, header=False)"
   ]
  },
  {
   "cell_type": "code",
   "execution_count": 8,
   "metadata": {},
   "outputs": [
    {
     "name": "stdout",
     "output_type": "stream",
     "text": [
      "German,1777,1855\r\n",
      "Swiss,1707,1783\r\n",
      "French,1736,1813\r\n",
      "French,1749,1827\r\n"
     ]
    }
   ],
   "source": [
    "!cat math.csv"
   ]
  },
  {
   "cell_type": "code",
   "execution_count": 9,
   "metadata": {},
   "outputs": [
    {
     "data": {
      "text/html": [
       "<div>\n",
       "<style>\n",
       "    .dataframe thead tr:only-child th {\n",
       "        text-align: right;\n",
       "    }\n",
       "\n",
       "    .dataframe thead th {\n",
       "        text-align: left;\n",
       "    }\n",
       "\n",
       "    .dataframe tbody tr th {\n",
       "        vertical-align: top;\n",
       "    }\n",
       "</style>\n",
       "<table border=\"1\" class=\"dataframe\">\n",
       "  <thead>\n",
       "    <tr style=\"text-align: right;\">\n",
       "      <th></th>\n",
       "      <th>Nationality</th>\n",
       "      <th>Born</th>\n",
       "      <th>Died</th>\n",
       "    </tr>\n",
       "    <tr>\n",
       "      <th>Mathematicians</th>\n",
       "      <th></th>\n",
       "      <th></th>\n",
       "      <th></th>\n",
       "    </tr>\n",
       "  </thead>\n",
       "  <tbody>\n",
       "    <tr>\n",
       "      <th>Gauss</th>\n",
       "      <td>German</td>\n",
       "      <td>1777</td>\n",
       "      <td>1855</td>\n",
       "    </tr>\n",
       "    <tr>\n",
       "      <th>Euler</th>\n",
       "      <td>Swiss</td>\n",
       "      <td>1707</td>\n",
       "      <td>1783</td>\n",
       "    </tr>\n",
       "    <tr>\n",
       "      <th>Lagrange</th>\n",
       "      <td>French</td>\n",
       "      <td>1736</td>\n",
       "      <td>1813</td>\n",
       "    </tr>\n",
       "    <tr>\n",
       "      <th>Laplace</th>\n",
       "      <td>French</td>\n",
       "      <td>1749</td>\n",
       "      <td>1827</td>\n",
       "    </tr>\n",
       "  </tbody>\n",
       "</table>\n",
       "</div>"
      ],
      "text/plain": [
       "               Nationality  Born  Died\n",
       "Mathematicians                        \n",
       "Gauss               German  1777  1855\n",
       "Euler                Swiss  1707  1783\n",
       "Lagrange            French  1736  1813\n",
       "Laplace             French  1749  1827"
      ]
     },
     "execution_count": 9,
     "metadata": {},
     "output_type": "execute_result"
    }
   ],
   "source": [
    "df = pd.read_csv('math.csv', names=['Nationality', 'Born', 'Died'])  # read and supply columns names\n",
    "df.index = ['Gauss', 'Euler', 'Lagrange', 'Laplace']   # supply the index\n",
    "df.index.name = 'Mathematicians'\n",
    "df"
   ]
  },
  {
   "cell_type": "markdown",
   "metadata": {},
   "source": [
    "For large files, it might make sense to read them in chunks."
   ]
  },
  {
   "cell_type": "code",
   "execution_count": 10,
   "metadata": {},
   "outputs": [
    {
     "name": "stdout",
     "output_type": "stream",
     "text": [
      "Found 2 French mathematicians.\n"
     ]
    }
   ],
   "source": [
    "df.to_csv('math.csv')  # save again for index and header\n",
    "chunks = pd.read_csv('math.csv', chunksize=1)  # chunksize is in no. of lines\n",
    "french_count = 0\n",
    "for piece in chunks:\n",
    "    french_count += (piece['Nationality'].iloc[0] == 'French')\n",
    "print 'Found %d French mathematicians.' % french_count"
   ]
  },
  {
   "cell_type": "code",
   "execution_count": 11,
   "metadata": {},
   "outputs": [
    {
     "name": "stdout",
     "output_type": "stream",
     "text": [
      "Mathematicians:Nationality:Born:Died\n",
      "Gauss:German:1777:1855\n",
      "Euler:Swiss:1707:1783\n",
      "Lagrange:French:1736:1813\n",
      "Laplace:French:1749:1827\n"
     ]
    }
   ],
   "source": [
    "import sys\n",
    "df.to_csv(sys.stdout, sep=':')  # can use a separator other than comma"
   ]
  },
  {
   "cell_type": "markdown",
   "metadata": {},
   "source": [
    "# Reading from databases"
   ]
  },
  {
   "cell_type": "markdown",
   "metadata": {},
   "source": [
    "Often the data you want to work with resides in a [relational database management system](http://en.wikipedia.org/wiki/Relational_database_management_system) (RDBMS). Some common commerical RDBMS implementations are: Oracle Database, Microsoft SQL server, MySQL and IBM DB2. [SQLite](http://www.sqlite.org/) is a freely available lightweight, disk-based (doesn't require a database server) database engine. In python, the package `sqlite3` provides an interface to SQLite.\n",
    "\n",
    "SQL (Structured Query Language) is a language used to interact with a database. A quick introduction to SQL can be found here:\n",
    "\n",
    "http://www.w3schools.com/sql/\n",
    "\n",
    "The SQL command to create a table in a database is `CREATE` (SQL queries are not case-sensitive: `CREATE` is the same as `create`)."
   ]
  },
  {
   "cell_type": "code",
   "execution_count": 12,
   "metadata": {
    "collapsed": true
   },
   "outputs": [],
   "source": [
    "import sqlite3\n",
    "\n",
    "query = \"\"\"\n",
    "CREATE TABLE math\n",
    "(Mathematician VARCHAR(10),\n",
    " Nationality VARCHAR(10),\n",
    " Born INTEGER,\n",
    " Died INTEGER\n",
    ");\"\"\""
   ]
  },
  {
   "cell_type": "markdown",
   "metadata": {},
   "source": [
    "Now that we have created our first query, let us connect to a database and execute the query. In SQLite, databases are stored on disk as files. However, we can create an in-memory database denoted by the special name `:memory:`.\n",
    "\n",
    "Any query that changes the database, need to be committed to ensure that the change is visible to other connections to the database that might be open at the same time."
   ]
  },
  {
   "cell_type": "code",
   "execution_count": 13,
   "metadata": {
    "collapsed": true
   },
   "outputs": [],
   "source": [
    "con = sqlite3.connect(':memory:')  # connect to an in-memory database\n",
    "con.execute(query)  # execute the query\n",
    "con.commit()  # commit the change"
   ]
  },
  {
   "cell_type": "markdown",
   "metadata": {},
   "source": [
    "We now have an empty table in the `:memory:` database. Let us insert some values into it using the SQL command `INSERT`."
   ]
  },
  {
   "cell_type": "code",
   "execution_count": 14,
   "metadata": {
    "collapsed": true
   },
   "outputs": [],
   "source": [
    "con.execute(\"INSERT INTO math VALUES('Gauss', 'German', 1777, 1855)\")  # insert values\n",
    "con.commit()  # and commit"
   ]
  },
  {
   "cell_type": "markdown",
   "metadata": {},
   "source": [
    "At this stage, the table has a single row in it. Let us retrieve contents of the table using the SQL command `SELECT`. The result of executing a `SELECT` command is a *cursor*. You can think of it as an iterator."
   ]
  },
  {
   "cell_type": "code",
   "execution_count": 15,
   "metadata": {},
   "outputs": [
    {
     "name": "stdout",
     "output_type": "stream",
     "text": [
      "(u'Gauss', u'German', 1777, 1855)\n"
     ]
    }
   ],
   "source": [
    "cursor = con.execute('SELECT * FROM math')\n",
    "for row in cursor:\n",
    "    print row"
   ]
  },
  {
   "cell_type": "markdown",
   "metadata": {},
   "source": [
    "Let us insert some more values in our table. The `executemany` method is useful for executing many commands for the same type. The placeholder `?` gets replaces by the values supplied in the list argument."
   ]
  },
  {
   "cell_type": "code",
   "execution_count": 16,
   "metadata": {
    "collapsed": true
   },
   "outputs": [],
   "source": [
    "values = [('Euler', 'Swiss', 1707, 1783),\n",
    "          ('Lagrange', 'French', 1736, 1813),\n",
    "          ('Laplace', 'French', 1749, 1827)]\n",
    "con.executemany(\"INSERT INTO math VALUES(?, ?, ?, ?)\", values)\n",
    "con.commit()"
   ]
  },
  {
   "cell_type": "markdown",
   "metadata": {},
   "source": [
    "We have seen that a cursor can be used an iterators. If you want one row, you can use the `fetchone()` method. If you you want all rows, you can use the `fetchall()` method."
   ]
  },
  {
   "cell_type": "code",
   "execution_count": 17,
   "metadata": {},
   "outputs": [
    {
     "name": "stdout",
     "output_type": "stream",
     "text": [
      "Fetching one row...\n",
      "(u'Gauss', u'German', 1777, 1855)\n",
      "Fetching all remaining rows...\n",
      "[(u'Euler', u'Swiss', 1707, 1783), (u'Lagrange', u'French', 1736, 1813), (u'Laplace', u'French', 1749, 1827)]\n"
     ]
    }
   ],
   "source": [
    "cursor = con.execute('SELECT * FROM math')\n",
    "print \"Fetching one row...\"\n",
    "print cursor.fetchone()\n",
    "print \"Fetching all remaining rows...\"\n",
    "print cursor.fetchall()"
   ]
  },
  {
   "cell_type": "markdown",
   "metadata": {},
   "source": [
    "Pandas provides a convenient way to convert results of SQL queries in DataFrame objects."
   ]
  },
  {
   "cell_type": "code",
   "execution_count": 18,
   "metadata": {},
   "outputs": [
    {
     "data": {
      "text/html": [
       "<div>\n",
       "<style>\n",
       "    .dataframe thead tr:only-child th {\n",
       "        text-align: right;\n",
       "    }\n",
       "\n",
       "    .dataframe thead th {\n",
       "        text-align: left;\n",
       "    }\n",
       "\n",
       "    .dataframe tbody tr th {\n",
       "        vertical-align: top;\n",
       "    }\n",
       "</style>\n",
       "<table border=\"1\" class=\"dataframe\">\n",
       "  <thead>\n",
       "    <tr style=\"text-align: right;\">\n",
       "      <th></th>\n",
       "      <th>Mathematician</th>\n",
       "      <th>Nationality</th>\n",
       "      <th>Born</th>\n",
       "      <th>Died</th>\n",
       "    </tr>\n",
       "  </thead>\n",
       "  <tbody>\n",
       "    <tr>\n",
       "      <th>0</th>\n",
       "      <td>Gauss</td>\n",
       "      <td>German</td>\n",
       "      <td>1777</td>\n",
       "      <td>1855</td>\n",
       "    </tr>\n",
       "    <tr>\n",
       "      <th>1</th>\n",
       "      <td>Euler</td>\n",
       "      <td>Swiss</td>\n",
       "      <td>1707</td>\n",
       "      <td>1783</td>\n",
       "    </tr>\n",
       "    <tr>\n",
       "      <th>2</th>\n",
       "      <td>Lagrange</td>\n",
       "      <td>French</td>\n",
       "      <td>1736</td>\n",
       "      <td>1813</td>\n",
       "    </tr>\n",
       "    <tr>\n",
       "      <th>3</th>\n",
       "      <td>Laplace</td>\n",
       "      <td>French</td>\n",
       "      <td>1749</td>\n",
       "      <td>1827</td>\n",
       "    </tr>\n",
       "  </tbody>\n",
       "</table>\n",
       "</div>"
      ],
      "text/plain": [
       "  Mathematician Nationality  Born  Died\n",
       "0         Gauss      German  1777  1855\n",
       "1         Euler       Swiss  1707  1783\n",
       "2      Lagrange      French  1736  1813\n",
       "3       Laplace      French  1749  1827"
      ]
     },
     "execution_count": 18,
     "metadata": {},
     "output_type": "execute_result"
    }
   ],
   "source": [
    "import pandas.io.sql as sql\n",
    "sql.read_sql('SELECT * FROM math', con)"
   ]
  },
  {
   "cell_type": "markdown",
   "metadata": {},
   "source": [
    "Let us try retrieving only French mathematicians."
   ]
  },
  {
   "cell_type": "code",
   "execution_count": 19,
   "metadata": {},
   "outputs": [
    {
     "data": {
      "text/html": [
       "<div>\n",
       "<style>\n",
       "    .dataframe thead tr:only-child th {\n",
       "        text-align: right;\n",
       "    }\n",
       "\n",
       "    .dataframe thead th {\n",
       "        text-align: left;\n",
       "    }\n",
       "\n",
       "    .dataframe tbody tr th {\n",
       "        vertical-align: top;\n",
       "    }\n",
       "</style>\n",
       "<table border=\"1\" class=\"dataframe\">\n",
       "  <thead>\n",
       "    <tr style=\"text-align: right;\">\n",
       "      <th></th>\n",
       "      <th>Mathematician</th>\n",
       "      <th>Nationality</th>\n",
       "      <th>Born</th>\n",
       "      <th>Died</th>\n",
       "    </tr>\n",
       "  </thead>\n",
       "  <tbody>\n",
       "    <tr>\n",
       "      <th>0</th>\n",
       "      <td>Lagrange</td>\n",
       "      <td>French</td>\n",
       "      <td>1736</td>\n",
       "      <td>1813</td>\n",
       "    </tr>\n",
       "    <tr>\n",
       "      <th>1</th>\n",
       "      <td>Laplace</td>\n",
       "      <td>French</td>\n",
       "      <td>1749</td>\n",
       "      <td>1827</td>\n",
       "    </tr>\n",
       "  </tbody>\n",
       "</table>\n",
       "</div>"
      ],
      "text/plain": [
       "  Mathematician Nationality  Born  Died\n",
       "0      Lagrange      French  1736  1813\n",
       "1       Laplace      French  1749  1827"
      ]
     },
     "execution_count": 19,
     "metadata": {},
     "output_type": "execute_result"
    }
   ],
   "source": [
    "sql.read_sql('SELECT * FROM math WHERE Nationality=\"French\"', con)"
   ]
  },
  {
   "cell_type": "markdown",
   "metadata": {},
   "source": [
    "# Reading from web APIs"
   ]
  },
  {
   "cell_type": "markdown",
   "metadata": {},
   "source": [
    "We will use the [Twitter Search API](https://dev.twitter.com/rest/public/search) to search for tweets. The API returns results in the [JSON format](http://en.wikipedia.org/wiki/JSON). Recallthat Jupyter notebooks (such as this document!) are also encoded in the JSON format.\n",
    "\n",
    "But before we can build a search query and execute it on twitter, we need to authenticate. We will use Twitter's [Application-only authentication](https://dev.twitter.com/oauth/application-only). The way this works is:\n",
    "\n",
    "1. Our (Python) application will encodes its *consumer key* and *consumer secret* into a specially encoded set of credentials.\n",
    "2. Then the application will make a request to exchange these credentials for a *bearer token*.\n",
    "3. When accessing the API, our application will use the *bearer token* to authenticate.\n",
    "\n",
    "Let us work on Step 1."
   ]
  },
  {
   "cell_type": "code",
   "execution_count": 20,
   "metadata": {
    "collapsed": true
   },
   "outputs": [],
   "source": [
    "from urllib2 import urlopen, Request  # to create HTTP requests and open URLs\n",
    "import base64  # for base64 encoding\n",
    "import json  # for handling the JSON format\n",
    "\n",
    "consumer_key = 'dNcn9ZjPJ6dSaXJMYnVgna7jg'  # our app's consumer key\n",
    "consumer_secret = open('consumer_secret', 'r').read().strip()  # read secret (should not be made public) from file\n",
    "\n",
    "bearer_token = '%s:%s' % (consumer_key, consumer_secret)\n",
    "encoded_bearer_token = base64.b64encode(bearer_token.encode('ascii'))  # bearer token needs to be base64 encoded\n",
    "request = Request('https://api.twitter.com/oauth2/token')\n",
    "request.add_header('Content-Type',\n",
    "                   'application/x-www-form-urlencoded;charset=UTF-8')\n",
    "request.add_header('Authorization',\n",
    "                   'Basic %s' % encoded_bearer_token.decode('utf-8'))\n",
    "request_data = 'grant_type=client_credentials'.encode('ascii')\n",
    "request.add_data(request_data)"
   ]
  },
  {
   "cell_type": "markdown",
   "metadata": {},
   "source": [
    "Now that we have a Request object ready, let us send our request to get a bearer token to Twitter (Step 2)."
   ]
  },
  {
   "cell_type": "code",
   "execution_count": 21,
   "metadata": {
    "collapsed": true
   },
   "outputs": [],
   "source": [
    "response = urlopen(request)  # make the request\n",
    "raw_data = response.read().decode('utf-8')  # read the raw results in JSON format\n",
    "data = json.loads(raw_data)  # decode JSON into Python data structures\n",
    "bearer_token = data['access_token']  # extract the token"
   ]
  },
  {
   "cell_type": "markdown",
   "metadata": {},
   "source": [
    "We can now use the bearer token to search (Step 3). Let us search for tweets containing \"data science\"."
   ]
  },
  {
   "cell_type": "code",
   "execution_count": 22,
   "metadata": {
    "collapsed": true
   },
   "outputs": [],
   "source": [
    "url = 'https://api.twitter.com/1.1/search/tweets.json?q=data%20science'  # search for \"data science\"\n",
    "request = Request(url)\n",
    "request.add_header('Authorization', 'Bearer %s' % bearer_token)  # use the bearer token from Step 2\n",
    "response = urlopen(request)  # make the request\n",
    "raw_data = response.read().decode('utf-8')  # results in raw JSON\n",
    "data = json.loads(raw_data)  # decode JSON into Python data structures"
   ]
  },
  {
   "cell_type": "markdown",
   "metadata": {},
   "source": [
    "At this point `data` is a dictionary with just two keys: `search_metadata` and `statuses`. The latter has the tweets inside a Python list."
   ]
  },
  {
   "cell_type": "code",
   "execution_count": 23,
   "metadata": {},
   "outputs": [
    {
     "name": "stdout",
     "output_type": "stream",
     "text": [
      "[u'search_metadata', u'statuses']\n"
     ]
    }
   ],
   "source": [
    "print data.keys()"
   ]
  },
  {
   "cell_type": "code",
   "execution_count": 24,
   "metadata": {},
   "outputs": [
    {
     "name": "stdout",
     "output_type": "stream",
     "text": [
      "{u'contributors': None,\n",
      " u'coordinates': None,\n",
      " u'created_at': u'Wed Oct 11 14:53:00 +0000 2017',\n",
      " u'entities': {u'hashtags': [{u'indices': [20, 22], u'text': u'R'},\n",
      "                             {u'indices': [30, 38], u'text': u'Tableau'},\n",
      "                             {u'indices': [50, 56], u'text': u'Julia'},\n",
      "                             {u'indices': [74, 83], u'text': u'tutorial'},\n",
      "                             {u'indices': [84, 96], u'text': u'datascience'},\n",
      "                             {u'indices': [97, 104], u'text': u'data17'},\n",
      "                             {u'indices': [105, 112], u'text': u'protip'}],\n",
      "               u'symbols': [],\n",
      "               u'urls': [{u'display_url': u'bit.ly/2gc3Fgs',\n",
      "                          u'expanded_url': u'http://bit.ly/2gc3Fgs',\n",
      "                          u'indices': [113, 136],\n",
      "                          u'url': u'https://t.co/8gAsDkhkAA'}],\n",
      "               u'user_mentions': [{u'id': 81433748,\n",
      "                                   u'id_str': u'81433748',\n",
      "                                   u'indices': [3, 8],\n",
      "                                   u'name': u'Alexander Loth',\n",
      "                                   u'screen_name': u'xlth'}]},\n",
      " u'favorite_count': 0,\n",
      " u'favorited': False,\n",
      " u'geo': None,\n",
      " u'id': 918127298032951296,\n",
      " u'id_str': u'918127298032951296',\n",
      " u'in_reply_to_screen_name': None,\n",
      " u'in_reply_to_status_id': None,\n",
      " u'in_reply_to_status_id_str': None,\n",
      " u'in_reply_to_user_id': None,\n",
      " u'in_reply_to_user_id_str': None,\n",
      " u'is_quote_status': False,\n",
      " u'lang': u'en',\n",
      " u'metadata': {u'iso_language_code': u'en', u'result_type': u'recent'},\n",
      " u'place': None,\n",
      " u'possibly_sensitive': False,\n",
      " u'retweet_count': 1,\n",
      " u'retweeted': False,\n",
      " u'retweeted_status': {u'contributors': None,\n",
      "                       u'coordinates': None,\n",
      "                       u'created_at': u'Wed Oct 11 14:52:01 +0000 2017',\n",
      "                       u'entities': {u'hashtags': [{u'indices': [10, 12],\n",
      "                                                    u'text': u'R'},\n",
      "                                                   {u'indices': [20, 28],\n",
      "                                                    u'text': u'Tableau'},\n",
      "                                                   {u'indices': [40, 46],\n",
      "                                                    u'text': u'Julia'},\n",
      "                                                   {u'indices': [64, 73],\n",
      "                                                    u'text': u'tutorial'},\n",
      "                                                   {u'indices': [74, 86],\n",
      "                                                    u'text': u'datascience'},\n",
      "                                                   {u'indices': [87, 94],\n",
      "                                                    u'text': u'data17'},\n",
      "                                                   {u'indices': [95, 102],\n",
      "                                                    u'text': u'protip'}],\n",
      "                                     u'symbols': [],\n",
      "                                     u'urls': [{u'display_url': u'twitter.com/i/web/status/9\\u2026',\n",
      "                                                u'expanded_url': u'https://twitter.com/i/web/status/918127050124296192',\n",
      "                                                u'indices': [104, 127],\n",
      "                                                u'url': u'https://t.co/203OyGmnXk'}],\n",
      "                                     u'user_mentions': []},\n",
      "                       u'favorite_count': 1,\n",
      "                       u'favorited': False,\n",
      "                       u'geo': None,\n",
      "                       u'id': 918127050124296192,\n",
      "                       u'id_str': u'918127050124296192',\n",
      "                       u'in_reply_to_screen_name': None,\n",
      "                       u'in_reply_to_status_id': None,\n",
      "                       u'in_reply_to_status_id_str': None,\n",
      "                       u'in_reply_to_user_id': None,\n",
      "                       u'in_reply_to_user_id_str': None,\n",
      "                       u'is_quote_status': False,\n",
      "                       u'lang': u'en',\n",
      "                       u'metadata': {u'iso_language_code': u'en',\n",
      "                                     u'result_type': u'recent'},\n",
      "                       u'place': None,\n",
      "                       u'possibly_sensitive': False,\n",
      "                       u'retweet_count': 1,\n",
      "                       u'retweeted': False,\n",
      "                       u'source': u'<a href=\"http://www.everyonesocial.com\" rel=\"nofollow\">EveryoneSocial</a>',\n",
      "                       u'text': u'Learn how #R allows #Tableau to execute #Julia code on the fly! #tutorial #datascience #data17 #protip\\u2026 https://t.co/203OyGmnXk',\n",
      "                       u'truncated': True,\n",
      "                       u'user': {u'contributors_enabled': False,\n",
      "                                 u'created_at': u'Sat Oct 10 20:21:58 +0000 2009',\n",
      "                                 u'default_profile': False,\n",
      "                                 u'default_profile_image': False,\n",
      "                                 u'description': u'Co-founder @FuturaAnalytics | Digital Strategist @Tableau | I guide organizations to evolve their data-driven culture #DataScience #DigitalTransformation',\n",
      "                                 u'entities': {u'description': {u'urls': []},\n",
      "                                               u'url': {u'urls': [{u'display_url': u'alexloth.com',\n",
      "                                                                   u'expanded_url': u'http://alexloth.com',\n",
      "                                                                   u'indices': [0,\n",
      "                                                                                23],\n",
      "                                                                   u'url': u'https://t.co/nKxPKzmpLN'}]}},\n",
      "                                 u'favourites_count': 70220,\n",
      "                                 u'follow_request_sent': None,\n",
      "                                 u'followers_count': 7839,\n",
      "                                 u'following': None,\n",
      "                                 u'friends_count': 5635,\n",
      "                                 u'geo_enabled': True,\n",
      "                                 u'has_extended_profile': True,\n",
      "                                 u'id': 81433748,\n",
      "                                 u'id_str': u'81433748',\n",
      "                                 u'is_translation_enabled': False,\n",
      "                                 u'is_translator': False,\n",
      "                                 u'lang': u'en',\n",
      "                                 u'listed_count': 256,\n",
      "                                 u'location': u'Frankfurt, Germany',\n",
      "                                 u'name': u'Alexander Loth',\n",
      "                                 u'notifications': None,\n",
      "                                 u'profile_background_color': u'000000',\n",
      "                                 u'profile_background_image_url': u'http://abs.twimg.com/images/themes/theme13/bg.gif',\n",
      "                                 u'profile_background_image_url_https': u'https://abs.twimg.com/images/themes/theme13/bg.gif',\n",
      "                                 u'profile_background_tile': False,\n",
      "                                 u'profile_banner_url': u'https://pbs.twimg.com/profile_banners/81433748/1444308969',\n",
      "                                 u'profile_image_url': u'http://pbs.twimg.com/profile_images/863805167568789504/2-CSKToy_normal.jpg',\n",
      "                                 u'profile_image_url_https': u'https://pbs.twimg.com/profile_images/863805167568789504/2-CSKToy_normal.jpg',\n",
      "                                 u'profile_link_color': u'3B94D9',\n",
      "                                 u'profile_sidebar_border_color': u'000000',\n",
      "                                 u'profile_sidebar_fill_color': u'000000',\n",
      "                                 u'profile_text_color': u'000000',\n",
      "                                 u'profile_use_background_image': False,\n",
      "                                 u'protected': False,\n",
      "                                 u'screen_name': u'xlth',\n",
      "                                 u'statuses_count': 1730,\n",
      "                                 u'time_zone': u'Rome',\n",
      "                                 u'translator_type': u'none',\n",
      "                                 u'url': u'https://t.co/nKxPKzmpLN',\n",
      "                                 u'utc_offset': 7200,\n",
      "                                 u'verified': False}},\n",
      " u'source': u'<a href=\"http://twitter.com\" rel=\"nofollow\">Twitter Web Client</a>',\n",
      " u'text': u'RT @xlth: Learn how #R allows #Tableau to execute #Julia code on the fly! #tutorial #datascience #data17 #protip https://t.co/8gAsDkhkAA ht\\u2026',\n",
      " u'truncated': False,\n",
      " u'user': {u'contributors_enabled': False,\n",
      "           u'created_at': u'Tue Oct 10 10:09:33 +0000 2017',\n",
      "           u'default_profile': True,\n",
      "           u'default_profile_image': False,\n",
      "           u'description': u'#Tableau Tips, Tricks and Vizzes',\n",
      "           u'entities': {u'description': {u'urls': []}},\n",
      "           u'favourites_count': 48,\n",
      "           u'follow_request_sent': None,\n",
      "           u'followers_count': 25,\n",
      "           u'following': None,\n",
      "           u'friends_count': 181,\n",
      "           u'geo_enabled': False,\n",
      "           u'has_extended_profile': False,\n",
      "           u'id': 917693576909385728,\n",
      "           u'id_str': u'917693576909385728',\n",
      "           u'is_translation_enabled': False,\n",
      "           u'is_translator': False,\n",
      "           u'lang': u'en',\n",
      "           u'listed_count': 1,\n",
      "           u'location': u'Seattle, WA',\n",
      "           u'name': u'Tableau Tips&Vizzes',\n",
      "           u'notifications': None,\n",
      "           u'profile_background_color': u'F5F8FA',\n",
      "           u'profile_background_image_url': None,\n",
      "           u'profile_background_image_url_https': None,\n",
      "           u'profile_background_tile': False,\n",
      "           u'profile_banner_url': u'https://pbs.twimg.com/profile_banners/917693576909385728/1507630606',\n",
      "           u'profile_image_url': u'http://pbs.twimg.com/profile_images/917695258678517760/4WXb4ZgR_normal.jpg',\n",
      "           u'profile_image_url_https': u'https://pbs.twimg.com/profile_images/917695258678517760/4WXb4ZgR_normal.jpg',\n",
      "           u'profile_link_color': u'1DA1F2',\n",
      "           u'profile_sidebar_border_color': u'C0DEED',\n",
      "           u'profile_sidebar_fill_color': u'DDEEF6',\n",
      "           u'profile_text_color': u'333333',\n",
      "           u'profile_use_background_image': True,\n",
      "           u'protected': False,\n",
      "           u'screen_name': u'TableauTipsViz',\n",
      "           u'statuses_count': 13,\n",
      "           u'time_zone': None,\n",
      "           u'translator_type': u'none',\n",
      "           u'url': None,\n",
      "           u'utc_offset': None,\n",
      "           u'verified': False}}\n"
     ]
    }
   ],
   "source": [
    "import pprint  # import pretty print module\n",
    "pprint.pprint(data['statuses'][0])  # print the first tweet, it is a Python dict"
   ]
  },
  {
   "cell_type": "code",
   "execution_count": 25,
   "metadata": {},
   "outputs": [
    {
     "data": {
      "text/html": [
       "<div>\n",
       "<style>\n",
       "    .dataframe thead tr:only-child th {\n",
       "        text-align: right;\n",
       "    }\n",
       "\n",
       "    .dataframe thead th {\n",
       "        text-align: left;\n",
       "    }\n",
       "\n",
       "    .dataframe tbody tr th {\n",
       "        vertical-align: top;\n",
       "    }\n",
       "</style>\n",
       "<table border=\"1\" class=\"dataframe\">\n",
       "  <thead>\n",
       "    <tr style=\"text-align: right;\">\n",
       "      <th></th>\n",
       "      <th>created_at</th>\n",
       "      <th>text</th>\n",
       "    </tr>\n",
       "  </thead>\n",
       "  <tbody>\n",
       "    <tr>\n",
       "      <th>0</th>\n",
       "      <td>Wed Oct 11 14:53:00 +0000 2017</td>\n",
       "      <td>RT @xlth: Learn how #R allows #Tableau to exec...</td>\n",
       "    </tr>\n",
       "    <tr>\n",
       "      <th>1</th>\n",
       "      <td>Wed Oct 11 14:52:32 +0000 2017</td>\n",
       "      <td>RT @machinelearnbot: A Simple Introduction To ...</td>\n",
       "    </tr>\n",
       "    <tr>\n",
       "      <th>2</th>\n",
       "      <td>Wed Oct 11 14:52:11 +0000 2017</td>\n",
       "      <td>#DSX, #PowerAI, #datascience, #deeplearning #A...</td>\n",
       "    </tr>\n",
       "    <tr>\n",
       "      <th>3</th>\n",
       "      <td>Wed Oct 11 14:52:01 +0000 2017</td>\n",
       "      <td>Learn how #R allows #Tableau to execute #Julia...</td>\n",
       "    </tr>\n",
       "    <tr>\n",
       "      <th>4</th>\n",
       "      <td>Wed Oct 11 14:51:49 +0000 2017</td>\n",
       "      <td>RT @AthertonKD: Read me in @politico on JIEDDO...</td>\n",
       "    </tr>\n",
       "    <tr>\n",
       "      <th>5</th>\n",
       "      <td>Wed Oct 11 14:51:40 +0000 2017</td>\n",
       "      <td>[Cheat Sheet] Python Basics For Data Science h...</td>\n",
       "    </tr>\n",
       "    <tr>\n",
       "      <th>6</th>\n",
       "      <td>Wed Oct 11 14:51:17 +0000 2017</td>\n",
       "      <td>@rqmacasieb Data Science kyeme :) May pa-cours...</td>\n",
       "    </tr>\n",
       "    <tr>\n",
       "      <th>7</th>\n",
       "      <td>Wed Oct 11 14:50:18 +0000 2017</td>\n",
       "      <td>Recommended read on @Medium: “O que foi a \"Eme...</td>\n",
       "    </tr>\n",
       "    <tr>\n",
       "      <th>8</th>\n",
       "      <td>Wed Oct 11 14:50:16 +0000 2017</td>\n",
       "      <td>RT @HarvardBiz: Understanding the science of i...</td>\n",
       "    </tr>\n",
       "    <tr>\n",
       "      <th>9</th>\n",
       "      <td>Wed Oct 11 14:50:05 +0000 2017</td>\n",
       "      <td>#AI Is Changing The Way We Look At Data Scienc...</td>\n",
       "    </tr>\n",
       "    <tr>\n",
       "      <th>10</th>\n",
       "      <td>Wed Oct 11 14:50:00 +0000 2017</td>\n",
       "      <td>RT @IoTRecruiting: #DataScience Is Not All Abo...</td>\n",
       "    </tr>\n",
       "    <tr>\n",
       "      <th>11</th>\n",
       "      <td>Wed Oct 11 14:49:42 +0000 2017</td>\n",
       "      <td>RT @DATAFYiNG: 17 Ultimate Data Science Projec...</td>\n",
       "    </tr>\n",
       "    <tr>\n",
       "      <th>12</th>\n",
       "      <td>Wed Oct 11 14:49:41 +0000 2017</td>\n",
       "      <td>RT @Ronald_vanLoon: Top 10 Data Science Influe...</td>\n",
       "    </tr>\n",
       "    <tr>\n",
       "      <th>13</th>\n",
       "      <td>Wed Oct 11 14:48:41 +0000 2017</td>\n",
       "      <td>RT @Ronald_vanLoon: 50+ Free Data Science Book...</td>\n",
       "    </tr>\n",
       "    <tr>\n",
       "      <th>14</th>\n",
       "      <td>Wed Oct 11 14:48:14 +0000 2017</td>\n",
       "      <td>Data Science, it’s what’s for dinner! #data17 ...</td>\n",
       "    </tr>\n",
       "  </tbody>\n",
       "</table>\n",
       "</div>"
      ],
      "text/plain": [
       "                        created_at  \\\n",
       "0   Wed Oct 11 14:53:00 +0000 2017   \n",
       "1   Wed Oct 11 14:52:32 +0000 2017   \n",
       "2   Wed Oct 11 14:52:11 +0000 2017   \n",
       "3   Wed Oct 11 14:52:01 +0000 2017   \n",
       "4   Wed Oct 11 14:51:49 +0000 2017   \n",
       "5   Wed Oct 11 14:51:40 +0000 2017   \n",
       "6   Wed Oct 11 14:51:17 +0000 2017   \n",
       "7   Wed Oct 11 14:50:18 +0000 2017   \n",
       "8   Wed Oct 11 14:50:16 +0000 2017   \n",
       "9   Wed Oct 11 14:50:05 +0000 2017   \n",
       "10  Wed Oct 11 14:50:00 +0000 2017   \n",
       "11  Wed Oct 11 14:49:42 +0000 2017   \n",
       "12  Wed Oct 11 14:49:41 +0000 2017   \n",
       "13  Wed Oct 11 14:48:41 +0000 2017   \n",
       "14  Wed Oct 11 14:48:14 +0000 2017   \n",
       "\n",
       "                                                 text  \n",
       "0   RT @xlth: Learn how #R allows #Tableau to exec...  \n",
       "1   RT @machinelearnbot: A Simple Introduction To ...  \n",
       "2   #DSX, #PowerAI, #datascience, #deeplearning #A...  \n",
       "3   Learn how #R allows #Tableau to execute #Julia...  \n",
       "4   RT @AthertonKD: Read me in @politico on JIEDDO...  \n",
       "5   [Cheat Sheet] Python Basics For Data Science h...  \n",
       "6   @rqmacasieb Data Science kyeme :) May pa-cours...  \n",
       "7   Recommended read on @Medium: “O que foi a \"Eme...  \n",
       "8   RT @HarvardBiz: Understanding the science of i...  \n",
       "9   #AI Is Changing The Way We Look At Data Scienc...  \n",
       "10  RT @IoTRecruiting: #DataScience Is Not All Abo...  \n",
       "11  RT @DATAFYiNG: 17 Ultimate Data Science Projec...  \n",
       "12  RT @Ronald_vanLoon: Top 10 Data Science Influe...  \n",
       "13  RT @Ronald_vanLoon: 50+ Free Data Science Book...  \n",
       "14  Data Science, it’s what’s for dinner! #data17 ...  "
      ]
     },
     "execution_count": 25,
     "metadata": {},
     "output_type": "execute_result"
    }
   ],
   "source": [
    "# Extract the text and created_at fields and convert in pandas DataFrame\n",
    "tweets_df = pd.DataFrame(data['statuses'], columns=['created_at', 'text'])\n",
    "tweets_df"
   ]
  },
  {
   "cell_type": "code",
   "execution_count": 26,
   "metadata": {},
   "outputs": [
    {
     "data": {
      "text/html": [
       "<div>\n",
       "<style>\n",
       "    .dataframe thead tr:only-child th {\n",
       "        text-align: right;\n",
       "    }\n",
       "\n",
       "    .dataframe thead th {\n",
       "        text-align: left;\n",
       "    }\n",
       "\n",
       "    .dataframe tbody tr th {\n",
       "        vertical-align: top;\n",
       "    }\n",
       "</style>\n",
       "<table border=\"1\" class=\"dataframe\">\n",
       "  <thead>\n",
       "    <tr style=\"text-align: right;\">\n",
       "      <th></th>\n",
       "      <th>created_at</th>\n",
       "      <th>text</th>\n",
       "    </tr>\n",
       "  </thead>\n",
       "  <tbody>\n",
       "    <tr>\n",
       "      <th>0</th>\n",
       "      <td>Wed Oct 11 14:53:32 +0000 2017</td>\n",
       "      <td>RT @antgrasso: Introduction to #MachineLearnin...</td>\n",
       "    </tr>\n",
       "    <tr>\n",
       "      <th>1</th>\n",
       "      <td>Wed Oct 11 14:53:16 +0000 2017</td>\n",
       "      <td>.@markyoung_ag sits down with @markets to disc...</td>\n",
       "    </tr>\n",
       "    <tr>\n",
       "      <th>2</th>\n",
       "      <td>Wed Oct 11 14:53:00 +0000 2017</td>\n",
       "      <td>RT @xlth: Learn how #R allows #Tableau to exec...</td>\n",
       "    </tr>\n",
       "    <tr>\n",
       "      <th>3</th>\n",
       "      <td>Wed Oct 11 14:52:30 +0000 2017</td>\n",
       "      <td>RT @moorejh: The #Python graph library https:/...</td>\n",
       "    </tr>\n",
       "    <tr>\n",
       "      <th>4</th>\n",
       "      <td>Wed Oct 11 14:52:25 +0000 2017</td>\n",
       "      <td>RT @GaryDower: #Python for #BigData in One Pic...</td>\n",
       "    </tr>\n",
       "    <tr>\n",
       "      <th>5</th>\n",
       "      <td>Wed Oct 11 14:52:11 +0000 2017</td>\n",
       "      <td>#DSX, #PowerAI, #datascience, #deeplearning #A...</td>\n",
       "    </tr>\n",
       "    <tr>\n",
       "      <th>6</th>\n",
       "      <td>Wed Oct 11 14:52:01 +0000 2017</td>\n",
       "      <td>Learn how #R allows #Tableau to execute #Julia...</td>\n",
       "    </tr>\n",
       "    <tr>\n",
       "      <th>7</th>\n",
       "      <td>Wed Oct 11 14:51:40 +0000 2017</td>\n",
       "      <td>RT @ana_valdi: A very first analysis evaluatin...</td>\n",
       "    </tr>\n",
       "    <tr>\n",
       "      <th>8</th>\n",
       "      <td>Wed Oct 11 14:51:14 +0000 2017</td>\n",
       "      <td>RT @ana_valdi: A very first analysis evaluatin...</td>\n",
       "    </tr>\n",
       "    <tr>\n",
       "      <th>9</th>\n",
       "      <td>Wed Oct 11 14:51:10 +0000 2017</td>\n",
       "      <td>RT @IBMAnalytics: Companies are “all in” on #D...</td>\n",
       "    </tr>\n",
       "    <tr>\n",
       "      <th>10</th>\n",
       "      <td>Wed Oct 11 14:51:05 +0000 2017</td>\n",
       "      <td>RT @antgrasso: 4 barriers to #DigitalTransform...</td>\n",
       "    </tr>\n",
       "    <tr>\n",
       "      <th>11</th>\n",
       "      <td>Wed Oct 11 14:50:48 +0000 2017</td>\n",
       "      <td>RT @PetiotEric: [ #IoT]\\nInternet of Everythin...</td>\n",
       "    </tr>\n",
       "    <tr>\n",
       "      <th>12</th>\n",
       "      <td>Wed Oct 11 14:50:30 +0000 2017</td>\n",
       "      <td>The latest The Big data Daily! https://t.co/Zb...</td>\n",
       "    </tr>\n",
       "    <tr>\n",
       "      <th>13</th>\n",
       "      <td>Wed Oct 11 14:50:20 +0000 2017</td>\n",
       "      <td>RT @IBMAnalytics: Is \"Data Scientist\" a role o...</td>\n",
       "    </tr>\n",
       "    <tr>\n",
       "      <th>14</th>\n",
       "      <td>Wed Oct 11 14:50:14 +0000 2017</td>\n",
       "      <td>@UniofOxford the free Intel Code Modernization...</td>\n",
       "    </tr>\n",
       "  </tbody>\n",
       "</table>\n",
       "</div>"
      ],
      "text/plain": [
       "                        created_at  \\\n",
       "0   Wed Oct 11 14:53:32 +0000 2017   \n",
       "1   Wed Oct 11 14:53:16 +0000 2017   \n",
       "2   Wed Oct 11 14:53:00 +0000 2017   \n",
       "3   Wed Oct 11 14:52:30 +0000 2017   \n",
       "4   Wed Oct 11 14:52:25 +0000 2017   \n",
       "5   Wed Oct 11 14:52:11 +0000 2017   \n",
       "6   Wed Oct 11 14:52:01 +0000 2017   \n",
       "7   Wed Oct 11 14:51:40 +0000 2017   \n",
       "8   Wed Oct 11 14:51:14 +0000 2017   \n",
       "9   Wed Oct 11 14:51:10 +0000 2017   \n",
       "10  Wed Oct 11 14:51:05 +0000 2017   \n",
       "11  Wed Oct 11 14:50:48 +0000 2017   \n",
       "12  Wed Oct 11 14:50:30 +0000 2017   \n",
       "13  Wed Oct 11 14:50:20 +0000 2017   \n",
       "14  Wed Oct 11 14:50:14 +0000 2017   \n",
       "\n",
       "                                                 text  \n",
       "0   RT @antgrasso: Introduction to #MachineLearnin...  \n",
       "1   .@markyoung_ag sits down with @markets to disc...  \n",
       "2   RT @xlth: Learn how #R allows #Tableau to exec...  \n",
       "3   RT @moorejh: The #Python graph library https:/...  \n",
       "4   RT @GaryDower: #Python for #BigData in One Pic...  \n",
       "5   #DSX, #PowerAI, #datascience, #deeplearning #A...  \n",
       "6   Learn how #R allows #Tableau to execute #Julia...  \n",
       "7   RT @ana_valdi: A very first analysis evaluatin...  \n",
       "8   RT @ana_valdi: A very first analysis evaluatin...  \n",
       "9   RT @IBMAnalytics: Companies are “all in” on #D...  \n",
       "10  RT @antgrasso: 4 barriers to #DigitalTransform...  \n",
       "11  RT @PetiotEric: [ #IoT]\\nInternet of Everythin...  \n",
       "12  The latest The Big data Daily! https://t.co/Zb...  \n",
       "13  RT @IBMAnalytics: Is \"Data Scientist\" a role o...  \n",
       "14  @UniofOxford the free Intel Code Modernization...  "
      ]
     },
     "execution_count": 26,
     "metadata": {},
     "output_type": "execute_result"
    }
   ],
   "source": [
    "url = 'https://api.twitter.com/1.1/search/tweets.json?q=%23datascience'  # search for the hashtag #datascience\n",
    "request = Request(url)\n",
    "request.add_header('Authorization', 'Bearer %s' % bearer_token)  # use the bearer token from Step 2\n",
    "response = urlopen(request)  # make the request\n",
    "raw_data = response.read().decode('utf-8')  # results in raw JSON\n",
    "data = json.loads(raw_data)  # decode JSON into Python data structures\n",
    "hashtag_tweets_df = pd.DataFrame(data['statuses'], columns=['created_at', 'text'])\n",
    "hashtag_tweets_df"
   ]
  },
  {
   "cell_type": "code",
   "execution_count": 27,
   "metadata": {
    "collapsed": true
   },
   "outputs": [],
   "source": [
    "# clean up temporary files in the end\n",
    "!rm math.csv"
   ]
  }
 ],
 "metadata": {
  "kernelspec": {
   "display_name": "Python 2",
   "language": "python",
   "name": "python2"
  },
  "language_info": {
   "codemirror_mode": {
    "name": "ipython",
    "version": 2
   },
   "file_extension": ".py",
   "mimetype": "text/x-python",
   "name": "python",
   "nbconvert_exporter": "python",
   "pygments_lexer": "ipython2",
   "version": "2.7.13"
  }
 },
 "nbformat": 4,
 "nbformat_minor": 1
}
